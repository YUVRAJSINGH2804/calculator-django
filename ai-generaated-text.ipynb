{
 "cells": [
  {
   "cell_type": "code",
   "execution_count": 1,
   "id": "532ddcc2",
   "metadata": {
    "_cell_guid": "b1076dfc-b9ad-4769-8c92-a6c4dae69d19",
    "_uuid": "8f2839f25d086af736a60e9eeb907d3b93b6e0e5",
    "execution": {
     "iopub.execute_input": "2024-09-16T11:19:46.121007Z",
     "iopub.status.busy": "2024-09-16T11:19:46.120547Z",
     "iopub.status.idle": "2024-09-16T11:19:46.598071Z",
     "shell.execute_reply": "2024-09-16T11:19:46.596919Z"
    },
    "papermill": {
     "duration": 0.502725,
     "end_time": "2024-09-16T11:19:46.600954",
     "exception": false,
     "start_time": "2024-09-16T11:19:46.098229",
     "status": "completed"
    },
    "tags": []
   },
   "outputs": [
    {
     "name": "stdout",
     "output_type": "stream",
     "text": [
      "/kaggle/input/llm-detect-ai-generated-text/sample_submission.csv\n",
      "/kaggle/input/llm-detect-ai-generated-text/train_prompts.csv\n",
      "/kaggle/input/llm-detect-ai-generated-text/test_essays.csv\n",
      "/kaggle/input/llm-detect-ai-generated-text/train_essays.csv\n"
     ]
    }
   ],
   "source": [
    "# This Python 3 environment comes with many helpful analytics libraries installed\n",
    "# It is defined by the kaggle/python Docker image: https://github.com/kaggle/docker-python\n",
    "# For example, here's several helpful packages to load\n",
    "\n",
    "import numpy as np # linear algebra\n",
    "import pandas as pd # data processing, CSV file I/O (e.g. pd.read_csv)\n",
    "\n",
    "# Input data files are available in the read-only \"../input/\" directory\n",
    "# For example, running this (by clicking run or pressing Shift+Enter) will list all files under the input directory\n",
    "\n",
    "import os\n",
    "for dirname, _, filenames in os.walk('/kaggle/input'):\n",
    "    for filename in filenames:\n",
    "        print(os.path.join(dirname, filename))\n",
    "\n",
    "# You can write up to 20GB to the current directory (/kaggle/working/) that gets preserved as output when you create a version using \"Save & Run All\" \n",
    "# You can also write temporary files to /kaggle/temp/, but they won't be saved outside of the current session"
   ]
  },
  {
   "cell_type": "code",
   "execution_count": 2,
   "id": "d9865b3f",
   "metadata": {
    "execution": {
     "iopub.execute_input": "2024-09-16T11:19:46.643270Z",
     "iopub.status.busy": "2024-09-16T11:19:46.642721Z",
     "iopub.status.idle": "2024-09-16T11:19:46.648111Z",
     "shell.execute_reply": "2024-09-16T11:19:46.646936Z"
    },
    "papermill": {
     "duration": 0.029327,
     "end_time": "2024-09-16T11:19:46.650566",
     "exception": false,
     "start_time": "2024-09-16T11:19:46.621239",
     "status": "completed"
    },
    "tags": []
   },
   "outputs": [],
   "source": [
    "import pandas as pd"
   ]
  },
  {
   "cell_type": "code",
   "execution_count": 3,
   "id": "77dbf0c4",
   "metadata": {
    "execution": {
     "iopub.execute_input": "2024-09-16T11:19:46.693263Z",
     "iopub.status.busy": "2024-09-16T11:19:46.692839Z",
     "iopub.status.idle": "2024-09-16T11:19:46.824655Z",
     "shell.execute_reply": "2024-09-16T11:19:46.823156Z"
    },
    "papermill": {
     "duration": 0.156728,
     "end_time": "2024-09-16T11:19:46.827785",
     "exception": false,
     "start_time": "2024-09-16T11:19:46.671057",
     "status": "completed"
    },
    "tags": []
   },
   "outputs": [],
   "source": [
    "train_eassy= pd.read_csv(\"/kaggle/input/llm-detect-ai-generated-text/train_essays.csv\")"
   ]
  },
  {
   "cell_type": "code",
   "execution_count": 4,
   "id": "cd768b52",
   "metadata": {
    "execution": {
     "iopub.execute_input": "2024-09-16T11:19:46.871749Z",
     "iopub.status.busy": "2024-09-16T11:19:46.871131Z",
     "iopub.status.idle": "2024-09-16T11:19:46.903575Z",
     "shell.execute_reply": "2024-09-16T11:19:46.902202Z"
    },
    "papermill": {
     "duration": 0.058124,
     "end_time": "2024-09-16T11:19:46.906372",
     "exception": false,
     "start_time": "2024-09-16T11:19:46.848248",
     "status": "completed"
    },
    "tags": []
   },
   "outputs": [
    {
     "data": {
      "text/html": [
       "<div>\n",
       "<style scoped>\n",
       "    .dataframe tbody tr th:only-of-type {\n",
       "        vertical-align: middle;\n",
       "    }\n",
       "\n",
       "    .dataframe tbody tr th {\n",
       "        vertical-align: top;\n",
       "    }\n",
       "\n",
       "    .dataframe thead th {\n",
       "        text-align: right;\n",
       "    }\n",
       "</style>\n",
       "<table border=\"1\" class=\"dataframe\">\n",
       "  <thead>\n",
       "    <tr style=\"text-align: right;\">\n",
       "      <th></th>\n",
       "      <th>id</th>\n",
       "      <th>prompt_id</th>\n",
       "      <th>text</th>\n",
       "      <th>generated</th>\n",
       "    </tr>\n",
       "  </thead>\n",
       "  <tbody>\n",
       "    <tr>\n",
       "      <th>0</th>\n",
       "      <td>0059830c</td>\n",
       "      <td>0</td>\n",
       "      <td>Cars. Cars have been around since they became ...</td>\n",
       "      <td>0</td>\n",
       "    </tr>\n",
       "    <tr>\n",
       "      <th>1</th>\n",
       "      <td>005db917</td>\n",
       "      <td>0</td>\n",
       "      <td>Transportation is a large necessity in most co...</td>\n",
       "      <td>0</td>\n",
       "    </tr>\n",
       "    <tr>\n",
       "      <th>2</th>\n",
       "      <td>008f63e3</td>\n",
       "      <td>0</td>\n",
       "      <td>\"America's love affair with it's vehicles seem...</td>\n",
       "      <td>0</td>\n",
       "    </tr>\n",
       "    <tr>\n",
       "      <th>3</th>\n",
       "      <td>00940276</td>\n",
       "      <td>0</td>\n",
       "      <td>How often do you ride in a car? Do you drive a...</td>\n",
       "      <td>0</td>\n",
       "    </tr>\n",
       "    <tr>\n",
       "      <th>4</th>\n",
       "      <td>00c39458</td>\n",
       "      <td>0</td>\n",
       "      <td>Cars are a wonderful thing. They are perhaps o...</td>\n",
       "      <td>0</td>\n",
       "    </tr>\n",
       "    <tr>\n",
       "      <th>...</th>\n",
       "      <td>...</td>\n",
       "      <td>...</td>\n",
       "      <td>...</td>\n",
       "      <td>...</td>\n",
       "    </tr>\n",
       "    <tr>\n",
       "      <th>1373</th>\n",
       "      <td>fe6ff9a5</td>\n",
       "      <td>1</td>\n",
       "      <td>There has been a fuss about the Elector Colleg...</td>\n",
       "      <td>0</td>\n",
       "    </tr>\n",
       "    <tr>\n",
       "      <th>1374</th>\n",
       "      <td>ff669174</td>\n",
       "      <td>0</td>\n",
       "      <td>Limiting car usage has many advantages. Such a...</td>\n",
       "      <td>0</td>\n",
       "    </tr>\n",
       "    <tr>\n",
       "      <th>1375</th>\n",
       "      <td>ffa247e0</td>\n",
       "      <td>0</td>\n",
       "      <td>There's a new trend that has been developing f...</td>\n",
       "      <td>0</td>\n",
       "    </tr>\n",
       "    <tr>\n",
       "      <th>1376</th>\n",
       "      <td>ffc237e9</td>\n",
       "      <td>0</td>\n",
       "      <td>As we all know cars are a big part of our soci...</td>\n",
       "      <td>0</td>\n",
       "    </tr>\n",
       "    <tr>\n",
       "      <th>1377</th>\n",
       "      <td>ffe1ca0d</td>\n",
       "      <td>0</td>\n",
       "      <td>Cars have been around since the 1800's and hav...</td>\n",
       "      <td>0</td>\n",
       "    </tr>\n",
       "  </tbody>\n",
       "</table>\n",
       "<p>1378 rows × 4 columns</p>\n",
       "</div>"
      ],
      "text/plain": [
       "            id  prompt_id                                               text  \\\n",
       "0     0059830c          0  Cars. Cars have been around since they became ...   \n",
       "1     005db917          0  Transportation is a large necessity in most co...   \n",
       "2     008f63e3          0  \"America's love affair with it's vehicles seem...   \n",
       "3     00940276          0  How often do you ride in a car? Do you drive a...   \n",
       "4     00c39458          0  Cars are a wonderful thing. They are perhaps o...   \n",
       "...        ...        ...                                                ...   \n",
       "1373  fe6ff9a5          1  There has been a fuss about the Elector Colleg...   \n",
       "1374  ff669174          0  Limiting car usage has many advantages. Such a...   \n",
       "1375  ffa247e0          0  There's a new trend that has been developing f...   \n",
       "1376  ffc237e9          0  As we all know cars are a big part of our soci...   \n",
       "1377  ffe1ca0d          0  Cars have been around since the 1800's and hav...   \n",
       "\n",
       "      generated  \n",
       "0             0  \n",
       "1             0  \n",
       "2             0  \n",
       "3             0  \n",
       "4             0  \n",
       "...         ...  \n",
       "1373          0  \n",
       "1374          0  \n",
       "1375          0  \n",
       "1376          0  \n",
       "1377          0  \n",
       "\n",
       "[1378 rows x 4 columns]"
      ]
     },
     "execution_count": 4,
     "metadata": {},
     "output_type": "execute_result"
    }
   ],
   "source": [
    "train_eassy"
   ]
  },
  {
   "cell_type": "code",
   "execution_count": 5,
   "id": "35aa74a0",
   "metadata": {
    "execution": {
     "iopub.execute_input": "2024-09-16T11:19:46.949506Z",
     "iopub.status.busy": "2024-09-16T11:19:46.949079Z",
     "iopub.status.idle": "2024-09-16T11:19:46.962081Z",
     "shell.execute_reply": "2024-09-16T11:19:46.960888Z"
    },
    "papermill": {
     "duration": 0.038197,
     "end_time": "2024-09-16T11:19:46.965325",
     "exception": false,
     "start_time": "2024-09-16T11:19:46.927128",
     "status": "completed"
    },
    "tags": []
   },
   "outputs": [],
   "source": [
    "train_prompts = pd.read_csv(\"/kaggle/input/llm-detect-ai-generated-text/train_prompts.csv\")"
   ]
  },
  {
   "cell_type": "code",
   "execution_count": 6,
   "id": "3b516909",
   "metadata": {
    "execution": {
     "iopub.execute_input": "2024-09-16T11:19:47.009199Z",
     "iopub.status.busy": "2024-09-16T11:19:47.007783Z",
     "iopub.status.idle": "2024-09-16T11:19:47.021149Z",
     "shell.execute_reply": "2024-09-16T11:19:47.020016Z"
    },
    "papermill": {
     "duration": 0.037771,
     "end_time": "2024-09-16T11:19:47.023813",
     "exception": false,
     "start_time": "2024-09-16T11:19:46.986042",
     "status": "completed"
    },
    "tags": []
   },
   "outputs": [
    {
     "data": {
      "text/html": [
       "<div>\n",
       "<style scoped>\n",
       "    .dataframe tbody tr th:only-of-type {\n",
       "        vertical-align: middle;\n",
       "    }\n",
       "\n",
       "    .dataframe tbody tr th {\n",
       "        vertical-align: top;\n",
       "    }\n",
       "\n",
       "    .dataframe thead th {\n",
       "        text-align: right;\n",
       "    }\n",
       "</style>\n",
       "<table border=\"1\" class=\"dataframe\">\n",
       "  <thead>\n",
       "    <tr style=\"text-align: right;\">\n",
       "      <th></th>\n",
       "      <th>prompt_id</th>\n",
       "      <th>prompt_name</th>\n",
       "      <th>instructions</th>\n",
       "      <th>source_text</th>\n",
       "    </tr>\n",
       "  </thead>\n",
       "  <tbody>\n",
       "    <tr>\n",
       "      <th>0</th>\n",
       "      <td>0</td>\n",
       "      <td>Car-free cities</td>\n",
       "      <td>Write an explanatory essay to inform fellow ci...</td>\n",
       "      <td># In German Suburb, Life Goes On Without Cars ...</td>\n",
       "    </tr>\n",
       "    <tr>\n",
       "      <th>1</th>\n",
       "      <td>1</td>\n",
       "      <td>Does the electoral college work?</td>\n",
       "      <td>Write a letter to your state senator in which ...</td>\n",
       "      <td># What Is the Electoral College? by the Office...</td>\n",
       "    </tr>\n",
       "  </tbody>\n",
       "</table>\n",
       "</div>"
      ],
      "text/plain": [
       "   prompt_id                       prompt_name  \\\n",
       "0          0                   Car-free cities   \n",
       "1          1  Does the electoral college work?   \n",
       "\n",
       "                                        instructions  \\\n",
       "0  Write an explanatory essay to inform fellow ci...   \n",
       "1  Write a letter to your state senator in which ...   \n",
       "\n",
       "                                         source_text  \n",
       "0  # In German Suburb, Life Goes On Without Cars ...  \n",
       "1  # What Is the Electoral College? by the Office...  "
      ]
     },
     "execution_count": 6,
     "metadata": {},
     "output_type": "execute_result"
    }
   ],
   "source": [
    "train_prompts"
   ]
  },
  {
   "cell_type": "code",
   "execution_count": 7,
   "id": "2a69a0b3",
   "metadata": {
    "execution": {
     "iopub.execute_input": "2024-09-16T11:19:47.067259Z",
     "iopub.status.busy": "2024-09-16T11:19:47.066802Z",
     "iopub.status.idle": "2024-09-16T11:19:47.089540Z",
     "shell.execute_reply": "2024-09-16T11:19:47.088193Z"
    },
    "papermill": {
     "duration": 0.048294,
     "end_time": "2024-09-16T11:19:47.092632",
     "exception": false,
     "start_time": "2024-09-16T11:19:47.044338",
     "status": "completed"
    },
    "tags": []
   },
   "outputs": [],
   "source": [
    "df= pd.merge(train_eassy, train_prompts, on='prompt_id')"
   ]
  },
  {
   "cell_type": "code",
   "execution_count": 8,
   "id": "3cba0e53",
   "metadata": {
    "execution": {
     "iopub.execute_input": "2024-09-16T11:19:47.136934Z",
     "iopub.status.busy": "2024-09-16T11:19:47.136013Z",
     "iopub.status.idle": "2024-09-16T11:19:47.155604Z",
     "shell.execute_reply": "2024-09-16T11:19:47.154037Z"
    },
    "papermill": {
     "duration": 0.045296,
     "end_time": "2024-09-16T11:19:47.158448",
     "exception": false,
     "start_time": "2024-09-16T11:19:47.113152",
     "status": "completed"
    },
    "tags": []
   },
   "outputs": [
    {
     "data": {
      "text/html": [
       "<div>\n",
       "<style scoped>\n",
       "    .dataframe tbody tr th:only-of-type {\n",
       "        vertical-align: middle;\n",
       "    }\n",
       "\n",
       "    .dataframe tbody tr th {\n",
       "        vertical-align: top;\n",
       "    }\n",
       "\n",
       "    .dataframe thead th {\n",
       "        text-align: right;\n",
       "    }\n",
       "</style>\n",
       "<table border=\"1\" class=\"dataframe\">\n",
       "  <thead>\n",
       "    <tr style=\"text-align: right;\">\n",
       "      <th></th>\n",
       "      <th>id</th>\n",
       "      <th>prompt_id</th>\n",
       "      <th>text</th>\n",
       "      <th>generated</th>\n",
       "      <th>prompt_name</th>\n",
       "      <th>instructions</th>\n",
       "      <th>source_text</th>\n",
       "    </tr>\n",
       "  </thead>\n",
       "  <tbody>\n",
       "    <tr>\n",
       "      <th>0</th>\n",
       "      <td>0059830c</td>\n",
       "      <td>0</td>\n",
       "      <td>Cars. Cars have been around since they became ...</td>\n",
       "      <td>0</td>\n",
       "      <td>Car-free cities</td>\n",
       "      <td>Write an explanatory essay to inform fellow ci...</td>\n",
       "      <td># In German Suburb, Life Goes On Without Cars ...</td>\n",
       "    </tr>\n",
       "    <tr>\n",
       "      <th>1</th>\n",
       "      <td>005db917</td>\n",
       "      <td>0</td>\n",
       "      <td>Transportation is a large necessity in most co...</td>\n",
       "      <td>0</td>\n",
       "      <td>Car-free cities</td>\n",
       "      <td>Write an explanatory essay to inform fellow ci...</td>\n",
       "      <td># In German Suburb, Life Goes On Without Cars ...</td>\n",
       "    </tr>\n",
       "    <tr>\n",
       "      <th>2</th>\n",
       "      <td>008f63e3</td>\n",
       "      <td>0</td>\n",
       "      <td>\"America's love affair with it's vehicles seem...</td>\n",
       "      <td>0</td>\n",
       "      <td>Car-free cities</td>\n",
       "      <td>Write an explanatory essay to inform fellow ci...</td>\n",
       "      <td># In German Suburb, Life Goes On Without Cars ...</td>\n",
       "    </tr>\n",
       "    <tr>\n",
       "      <th>3</th>\n",
       "      <td>00940276</td>\n",
       "      <td>0</td>\n",
       "      <td>How often do you ride in a car? Do you drive a...</td>\n",
       "      <td>0</td>\n",
       "      <td>Car-free cities</td>\n",
       "      <td>Write an explanatory essay to inform fellow ci...</td>\n",
       "      <td># In German Suburb, Life Goes On Without Cars ...</td>\n",
       "    </tr>\n",
       "    <tr>\n",
       "      <th>4</th>\n",
       "      <td>00c39458</td>\n",
       "      <td>0</td>\n",
       "      <td>Cars are a wonderful thing. They are perhaps o...</td>\n",
       "      <td>0</td>\n",
       "      <td>Car-free cities</td>\n",
       "      <td>Write an explanatory essay to inform fellow ci...</td>\n",
       "      <td># In German Suburb, Life Goes On Without Cars ...</td>\n",
       "    </tr>\n",
       "    <tr>\n",
       "      <th>...</th>\n",
       "      <td>...</td>\n",
       "      <td>...</td>\n",
       "      <td>...</td>\n",
       "      <td>...</td>\n",
       "      <td>...</td>\n",
       "      <td>...</td>\n",
       "      <td>...</td>\n",
       "    </tr>\n",
       "    <tr>\n",
       "      <th>1373</th>\n",
       "      <td>fe6ff9a5</td>\n",
       "      <td>1</td>\n",
       "      <td>There has been a fuss about the Elector Colleg...</td>\n",
       "      <td>0</td>\n",
       "      <td>Does the electoral college work?</td>\n",
       "      <td>Write a letter to your state senator in which ...</td>\n",
       "      <td># What Is the Electoral College? by the Office...</td>\n",
       "    </tr>\n",
       "    <tr>\n",
       "      <th>1374</th>\n",
       "      <td>ff669174</td>\n",
       "      <td>0</td>\n",
       "      <td>Limiting car usage has many advantages. Such a...</td>\n",
       "      <td>0</td>\n",
       "      <td>Car-free cities</td>\n",
       "      <td>Write an explanatory essay to inform fellow ci...</td>\n",
       "      <td># In German Suburb, Life Goes On Without Cars ...</td>\n",
       "    </tr>\n",
       "    <tr>\n",
       "      <th>1375</th>\n",
       "      <td>ffa247e0</td>\n",
       "      <td>0</td>\n",
       "      <td>There's a new trend that has been developing f...</td>\n",
       "      <td>0</td>\n",
       "      <td>Car-free cities</td>\n",
       "      <td>Write an explanatory essay to inform fellow ci...</td>\n",
       "      <td># In German Suburb, Life Goes On Without Cars ...</td>\n",
       "    </tr>\n",
       "    <tr>\n",
       "      <th>1376</th>\n",
       "      <td>ffc237e9</td>\n",
       "      <td>0</td>\n",
       "      <td>As we all know cars are a big part of our soci...</td>\n",
       "      <td>0</td>\n",
       "      <td>Car-free cities</td>\n",
       "      <td>Write an explanatory essay to inform fellow ci...</td>\n",
       "      <td># In German Suburb, Life Goes On Without Cars ...</td>\n",
       "    </tr>\n",
       "    <tr>\n",
       "      <th>1377</th>\n",
       "      <td>ffe1ca0d</td>\n",
       "      <td>0</td>\n",
       "      <td>Cars have been around since the 1800's and hav...</td>\n",
       "      <td>0</td>\n",
       "      <td>Car-free cities</td>\n",
       "      <td>Write an explanatory essay to inform fellow ci...</td>\n",
       "      <td># In German Suburb, Life Goes On Without Cars ...</td>\n",
       "    </tr>\n",
       "  </tbody>\n",
       "</table>\n",
       "<p>1378 rows × 7 columns</p>\n",
       "</div>"
      ],
      "text/plain": [
       "            id  prompt_id                                               text  \\\n",
       "0     0059830c          0  Cars. Cars have been around since they became ...   \n",
       "1     005db917          0  Transportation is a large necessity in most co...   \n",
       "2     008f63e3          0  \"America's love affair with it's vehicles seem...   \n",
       "3     00940276          0  How often do you ride in a car? Do you drive a...   \n",
       "4     00c39458          0  Cars are a wonderful thing. They are perhaps o...   \n",
       "...        ...        ...                                                ...   \n",
       "1373  fe6ff9a5          1  There has been a fuss about the Elector Colleg...   \n",
       "1374  ff669174          0  Limiting car usage has many advantages. Such a...   \n",
       "1375  ffa247e0          0  There's a new trend that has been developing f...   \n",
       "1376  ffc237e9          0  As we all know cars are a big part of our soci...   \n",
       "1377  ffe1ca0d          0  Cars have been around since the 1800's and hav...   \n",
       "\n",
       "      generated                       prompt_name  \\\n",
       "0             0                   Car-free cities   \n",
       "1             0                   Car-free cities   \n",
       "2             0                   Car-free cities   \n",
       "3             0                   Car-free cities   \n",
       "4             0                   Car-free cities   \n",
       "...         ...                               ...   \n",
       "1373          0  Does the electoral college work?   \n",
       "1374          0                   Car-free cities   \n",
       "1375          0                   Car-free cities   \n",
       "1376          0                   Car-free cities   \n",
       "1377          0                   Car-free cities   \n",
       "\n",
       "                                           instructions  \\\n",
       "0     Write an explanatory essay to inform fellow ci...   \n",
       "1     Write an explanatory essay to inform fellow ci...   \n",
       "2     Write an explanatory essay to inform fellow ci...   \n",
       "3     Write an explanatory essay to inform fellow ci...   \n",
       "4     Write an explanatory essay to inform fellow ci...   \n",
       "...                                                 ...   \n",
       "1373  Write a letter to your state senator in which ...   \n",
       "1374  Write an explanatory essay to inform fellow ci...   \n",
       "1375  Write an explanatory essay to inform fellow ci...   \n",
       "1376  Write an explanatory essay to inform fellow ci...   \n",
       "1377  Write an explanatory essay to inform fellow ci...   \n",
       "\n",
       "                                            source_text  \n",
       "0     # In German Suburb, Life Goes On Without Cars ...  \n",
       "1     # In German Suburb, Life Goes On Without Cars ...  \n",
       "2     # In German Suburb, Life Goes On Without Cars ...  \n",
       "3     # In German Suburb, Life Goes On Without Cars ...  \n",
       "4     # In German Suburb, Life Goes On Without Cars ...  \n",
       "...                                                 ...  \n",
       "1373  # What Is the Electoral College? by the Office...  \n",
       "1374  # In German Suburb, Life Goes On Without Cars ...  \n",
       "1375  # In German Suburb, Life Goes On Without Cars ...  \n",
       "1376  # In German Suburb, Life Goes On Without Cars ...  \n",
       "1377  # In German Suburb, Life Goes On Without Cars ...  \n",
       "\n",
       "[1378 rows x 7 columns]"
      ]
     },
     "execution_count": 8,
     "metadata": {},
     "output_type": "execute_result"
    }
   ],
   "source": [
    "df"
   ]
  },
  {
   "cell_type": "code",
   "execution_count": 9,
   "id": "9c3d4e5d",
   "metadata": {
    "execution": {
     "iopub.execute_input": "2024-09-16T11:19:47.204284Z",
     "iopub.status.busy": "2024-09-16T11:19:47.203496Z",
     "iopub.status.idle": "2024-09-16T11:19:47.216764Z",
     "shell.execute_reply": "2024-09-16T11:19:47.215595Z"
    },
    "papermill": {
     "duration": 0.039227,
     "end_time": "2024-09-16T11:19:47.219545",
     "exception": false,
     "start_time": "2024-09-16T11:19:47.180318",
     "status": "completed"
    },
    "tags": []
   },
   "outputs": [
    {
     "data": {
      "text/plain": [
       "id              0\n",
       "prompt_id       0\n",
       "text            0\n",
       "generated       0\n",
       "prompt_name     0\n",
       "instructions    0\n",
       "source_text     0\n",
       "dtype: int64"
      ]
     },
     "execution_count": 9,
     "metadata": {},
     "output_type": "execute_result"
    }
   ],
   "source": [
    "df.isnull().sum()"
   ]
  },
  {
   "cell_type": "code",
   "execution_count": 10,
   "id": "234d704c",
   "metadata": {
    "execution": {
     "iopub.execute_input": "2024-09-16T11:19:47.265926Z",
     "iopub.status.busy": "2024-09-16T11:19:47.265382Z",
     "iopub.status.idle": "2024-09-16T11:19:47.272980Z",
     "shell.execute_reply": "2024-09-16T11:19:47.271562Z"
    },
    "papermill": {
     "duration": 0.0345,
     "end_time": "2024-09-16T11:19:47.275550",
     "exception": false,
     "start_time": "2024-09-16T11:19:47.241050",
     "status": "completed"
    },
    "tags": []
   },
   "outputs": [],
   "source": [
    "df= df.drop([\"id\"] ,axis=1)\n",
    "# droped prompt_id and id"
   ]
  },
  {
   "cell_type": "code",
   "execution_count": null,
   "id": "d4d73c24",
   "metadata": {
    "papermill": {
     "duration": 0.021647,
     "end_time": "2024-09-16T11:19:47.318347",
     "exception": false,
     "start_time": "2024-09-16T11:19:47.296700",
     "status": "completed"
    },
    "tags": []
   },
   "outputs": [],
   "source": []
  },
  {
   "cell_type": "code",
   "execution_count": 11,
   "id": "9b023030",
   "metadata": {
    "execution": {
     "iopub.execute_input": "2024-09-16T11:19:47.364628Z",
     "iopub.status.busy": "2024-09-16T11:19:47.364150Z",
     "iopub.status.idle": "2024-09-16T11:19:47.371720Z",
     "shell.execute_reply": "2024-09-16T11:19:47.370318Z"
    },
    "papermill": {
     "duration": 0.033676,
     "end_time": "2024-09-16T11:19:47.374505",
     "exception": false,
     "start_time": "2024-09-16T11:19:47.340829",
     "status": "completed"
    },
    "tags": []
   },
   "outputs": [],
   "source": [
    "x =df.drop([\"generated\"],axis=1)"
   ]
  },
  {
   "cell_type": "code",
   "execution_count": 12,
   "id": "19d1452b",
   "metadata": {
    "execution": {
     "iopub.execute_input": "2024-09-16T11:19:47.419305Z",
     "iopub.status.busy": "2024-09-16T11:19:47.418872Z",
     "iopub.status.idle": "2024-09-16T11:19:47.424810Z",
     "shell.execute_reply": "2024-09-16T11:19:47.423431Z"
    },
    "papermill": {
     "duration": 0.031873,
     "end_time": "2024-09-16T11:19:47.427472",
     "exception": false,
     "start_time": "2024-09-16T11:19:47.395599",
     "status": "completed"
    },
    "tags": []
   },
   "outputs": [],
   "source": [
    "y= df[\"generated\"]"
   ]
  },
  {
   "cell_type": "code",
   "execution_count": 13,
   "id": "cb96c752",
   "metadata": {
    "execution": {
     "iopub.execute_input": "2024-09-16T11:19:47.471774Z",
     "iopub.status.busy": "2024-09-16T11:19:47.471218Z",
     "iopub.status.idle": "2024-09-16T11:19:47.481305Z",
     "shell.execute_reply": "2024-09-16T11:19:47.479994Z"
    },
    "papermill": {
     "duration": 0.035026,
     "end_time": "2024-09-16T11:19:47.484015",
     "exception": false,
     "start_time": "2024-09-16T11:19:47.448989",
     "status": "completed"
    },
    "tags": []
   },
   "outputs": [
    {
     "data": {
      "text/plain": [
       "0       0\n",
       "1       0\n",
       "2       0\n",
       "3       0\n",
       "4       0\n",
       "       ..\n",
       "1373    0\n",
       "1374    0\n",
       "1375    0\n",
       "1376    0\n",
       "1377    0\n",
       "Name: generated, Length: 1378, dtype: int64"
      ]
     },
     "execution_count": 13,
     "metadata": {},
     "output_type": "execute_result"
    }
   ],
   "source": [
    "y"
   ]
  },
  {
   "cell_type": "code",
   "execution_count": 14,
   "id": "40e2d68e",
   "metadata": {
    "execution": {
     "iopub.execute_input": "2024-09-16T11:19:47.530223Z",
     "iopub.status.busy": "2024-09-16T11:19:47.529763Z",
     "iopub.status.idle": "2024-09-16T11:19:47.546882Z",
     "shell.execute_reply": "2024-09-16T11:19:47.545698Z"
    },
    "papermill": {
     "duration": 0.043557,
     "end_time": "2024-09-16T11:19:47.549311",
     "exception": false,
     "start_time": "2024-09-16T11:19:47.505754",
     "status": "completed"
    },
    "tags": []
   },
   "outputs": [
    {
     "data": {
      "text/html": [
       "<div>\n",
       "<style scoped>\n",
       "    .dataframe tbody tr th:only-of-type {\n",
       "        vertical-align: middle;\n",
       "    }\n",
       "\n",
       "    .dataframe tbody tr th {\n",
       "        vertical-align: top;\n",
       "    }\n",
       "\n",
       "    .dataframe thead th {\n",
       "        text-align: right;\n",
       "    }\n",
       "</style>\n",
       "<table border=\"1\" class=\"dataframe\">\n",
       "  <thead>\n",
       "    <tr style=\"text-align: right;\">\n",
       "      <th></th>\n",
       "      <th>prompt_id</th>\n",
       "      <th>text</th>\n",
       "      <th>prompt_name</th>\n",
       "      <th>instructions</th>\n",
       "      <th>source_text</th>\n",
       "    </tr>\n",
       "  </thead>\n",
       "  <tbody>\n",
       "    <tr>\n",
       "      <th>0</th>\n",
       "      <td>0</td>\n",
       "      <td>Cars. Cars have been around since they became ...</td>\n",
       "      <td>Car-free cities</td>\n",
       "      <td>Write an explanatory essay to inform fellow ci...</td>\n",
       "      <td># In German Suburb, Life Goes On Without Cars ...</td>\n",
       "    </tr>\n",
       "    <tr>\n",
       "      <th>1</th>\n",
       "      <td>0</td>\n",
       "      <td>Transportation is a large necessity in most co...</td>\n",
       "      <td>Car-free cities</td>\n",
       "      <td>Write an explanatory essay to inform fellow ci...</td>\n",
       "      <td># In German Suburb, Life Goes On Without Cars ...</td>\n",
       "    </tr>\n",
       "    <tr>\n",
       "      <th>2</th>\n",
       "      <td>0</td>\n",
       "      <td>\"America's love affair with it's vehicles seem...</td>\n",
       "      <td>Car-free cities</td>\n",
       "      <td>Write an explanatory essay to inform fellow ci...</td>\n",
       "      <td># In German Suburb, Life Goes On Without Cars ...</td>\n",
       "    </tr>\n",
       "    <tr>\n",
       "      <th>3</th>\n",
       "      <td>0</td>\n",
       "      <td>How often do you ride in a car? Do you drive a...</td>\n",
       "      <td>Car-free cities</td>\n",
       "      <td>Write an explanatory essay to inform fellow ci...</td>\n",
       "      <td># In German Suburb, Life Goes On Without Cars ...</td>\n",
       "    </tr>\n",
       "    <tr>\n",
       "      <th>4</th>\n",
       "      <td>0</td>\n",
       "      <td>Cars are a wonderful thing. They are perhaps o...</td>\n",
       "      <td>Car-free cities</td>\n",
       "      <td>Write an explanatory essay to inform fellow ci...</td>\n",
       "      <td># In German Suburb, Life Goes On Without Cars ...</td>\n",
       "    </tr>\n",
       "    <tr>\n",
       "      <th>...</th>\n",
       "      <td>...</td>\n",
       "      <td>...</td>\n",
       "      <td>...</td>\n",
       "      <td>...</td>\n",
       "      <td>...</td>\n",
       "    </tr>\n",
       "    <tr>\n",
       "      <th>1373</th>\n",
       "      <td>1</td>\n",
       "      <td>There has been a fuss about the Elector Colleg...</td>\n",
       "      <td>Does the electoral college work?</td>\n",
       "      <td>Write a letter to your state senator in which ...</td>\n",
       "      <td># What Is the Electoral College? by the Office...</td>\n",
       "    </tr>\n",
       "    <tr>\n",
       "      <th>1374</th>\n",
       "      <td>0</td>\n",
       "      <td>Limiting car usage has many advantages. Such a...</td>\n",
       "      <td>Car-free cities</td>\n",
       "      <td>Write an explanatory essay to inform fellow ci...</td>\n",
       "      <td># In German Suburb, Life Goes On Without Cars ...</td>\n",
       "    </tr>\n",
       "    <tr>\n",
       "      <th>1375</th>\n",
       "      <td>0</td>\n",
       "      <td>There's a new trend that has been developing f...</td>\n",
       "      <td>Car-free cities</td>\n",
       "      <td>Write an explanatory essay to inform fellow ci...</td>\n",
       "      <td># In German Suburb, Life Goes On Without Cars ...</td>\n",
       "    </tr>\n",
       "    <tr>\n",
       "      <th>1376</th>\n",
       "      <td>0</td>\n",
       "      <td>As we all know cars are a big part of our soci...</td>\n",
       "      <td>Car-free cities</td>\n",
       "      <td>Write an explanatory essay to inform fellow ci...</td>\n",
       "      <td># In German Suburb, Life Goes On Without Cars ...</td>\n",
       "    </tr>\n",
       "    <tr>\n",
       "      <th>1377</th>\n",
       "      <td>0</td>\n",
       "      <td>Cars have been around since the 1800's and hav...</td>\n",
       "      <td>Car-free cities</td>\n",
       "      <td>Write an explanatory essay to inform fellow ci...</td>\n",
       "      <td># In German Suburb, Life Goes On Without Cars ...</td>\n",
       "    </tr>\n",
       "  </tbody>\n",
       "</table>\n",
       "<p>1378 rows × 5 columns</p>\n",
       "</div>"
      ],
      "text/plain": [
       "      prompt_id                                               text  \\\n",
       "0             0  Cars. Cars have been around since they became ...   \n",
       "1             0  Transportation is a large necessity in most co...   \n",
       "2             0  \"America's love affair with it's vehicles seem...   \n",
       "3             0  How often do you ride in a car? Do you drive a...   \n",
       "4             0  Cars are a wonderful thing. They are perhaps o...   \n",
       "...         ...                                                ...   \n",
       "1373          1  There has been a fuss about the Elector Colleg...   \n",
       "1374          0  Limiting car usage has many advantages. Such a...   \n",
       "1375          0  There's a new trend that has been developing f...   \n",
       "1376          0  As we all know cars are a big part of our soci...   \n",
       "1377          0  Cars have been around since the 1800's and hav...   \n",
       "\n",
       "                           prompt_name  \\\n",
       "0                      Car-free cities   \n",
       "1                      Car-free cities   \n",
       "2                      Car-free cities   \n",
       "3                      Car-free cities   \n",
       "4                      Car-free cities   \n",
       "...                                ...   \n",
       "1373  Does the electoral college work?   \n",
       "1374                   Car-free cities   \n",
       "1375                   Car-free cities   \n",
       "1376                   Car-free cities   \n",
       "1377                   Car-free cities   \n",
       "\n",
       "                                           instructions  \\\n",
       "0     Write an explanatory essay to inform fellow ci...   \n",
       "1     Write an explanatory essay to inform fellow ci...   \n",
       "2     Write an explanatory essay to inform fellow ci...   \n",
       "3     Write an explanatory essay to inform fellow ci...   \n",
       "4     Write an explanatory essay to inform fellow ci...   \n",
       "...                                                 ...   \n",
       "1373  Write a letter to your state senator in which ...   \n",
       "1374  Write an explanatory essay to inform fellow ci...   \n",
       "1375  Write an explanatory essay to inform fellow ci...   \n",
       "1376  Write an explanatory essay to inform fellow ci...   \n",
       "1377  Write an explanatory essay to inform fellow ci...   \n",
       "\n",
       "                                            source_text  \n",
       "0     # In German Suburb, Life Goes On Without Cars ...  \n",
       "1     # In German Suburb, Life Goes On Without Cars ...  \n",
       "2     # In German Suburb, Life Goes On Without Cars ...  \n",
       "3     # In German Suburb, Life Goes On Without Cars ...  \n",
       "4     # In German Suburb, Life Goes On Without Cars ...  \n",
       "...                                                 ...  \n",
       "1373  # What Is the Electoral College? by the Office...  \n",
       "1374  # In German Suburb, Life Goes On Without Cars ...  \n",
       "1375  # In German Suburb, Life Goes On Without Cars ...  \n",
       "1376  # In German Suburb, Life Goes On Without Cars ...  \n",
       "1377  # In German Suburb, Life Goes On Without Cars ...  \n",
       "\n",
       "[1378 rows x 5 columns]"
      ]
     },
     "execution_count": 14,
     "metadata": {},
     "output_type": "execute_result"
    }
   ],
   "source": [
    "x"
   ]
  },
  {
   "cell_type": "code",
   "execution_count": 15,
   "id": "db123733",
   "metadata": {
    "execution": {
     "iopub.execute_input": "2024-09-16T11:19:47.594387Z",
     "iopub.status.busy": "2024-09-16T11:19:47.593930Z",
     "iopub.status.idle": "2024-09-16T11:19:47.603328Z",
     "shell.execute_reply": "2024-09-16T11:19:47.602185Z"
    },
    "papermill": {
     "duration": 0.035094,
     "end_time": "2024-09-16T11:19:47.606050",
     "exception": false,
     "start_time": "2024-09-16T11:19:47.570956",
     "status": "completed"
    },
    "tags": []
   },
   "outputs": [
    {
     "data": {
      "text/plain": [
       "array(['Car-free cities', 'Does the electoral college work?'],\n",
       "      dtype=object)"
      ]
     },
     "execution_count": 15,
     "metadata": {},
     "output_type": "execute_result"
    }
   ],
   "source": [
    "x[\"prompt_name\"].unique()"
   ]
  },
  {
   "cell_type": "code",
   "execution_count": 16,
   "id": "c4412a6f",
   "metadata": {
    "execution": {
     "iopub.execute_input": "2024-09-16T11:19:47.651820Z",
     "iopub.status.busy": "2024-09-16T11:19:47.651303Z",
     "iopub.status.idle": "2024-09-16T11:19:47.668552Z",
     "shell.execute_reply": "2024-09-16T11:19:47.667352Z"
    },
    "papermill": {
     "duration": 0.043125,
     "end_time": "2024-09-16T11:19:47.671108",
     "exception": false,
     "start_time": "2024-09-16T11:19:47.627983",
     "status": "completed"
    },
    "tags": []
   },
   "outputs": [
    {
     "data": {
      "text/html": [
       "<div>\n",
       "<style scoped>\n",
       "    .dataframe tbody tr th:only-of-type {\n",
       "        vertical-align: middle;\n",
       "    }\n",
       "\n",
       "    .dataframe tbody tr th {\n",
       "        vertical-align: top;\n",
       "    }\n",
       "\n",
       "    .dataframe thead th {\n",
       "        text-align: right;\n",
       "    }\n",
       "</style>\n",
       "<table border=\"1\" class=\"dataframe\">\n",
       "  <thead>\n",
       "    <tr style=\"text-align: right;\">\n",
       "      <th></th>\n",
       "      <th>prompt_id</th>\n",
       "      <th>text</th>\n",
       "      <th>prompt_name</th>\n",
       "      <th>instructions</th>\n",
       "      <th>source_text</th>\n",
       "    </tr>\n",
       "  </thead>\n",
       "  <tbody>\n",
       "    <tr>\n",
       "      <th>0</th>\n",
       "      <td>0</td>\n",
       "      <td>Cars. Cars have been around since they became ...</td>\n",
       "      <td>Car-free cities</td>\n",
       "      <td>Write an explanatory essay to inform fellow ci...</td>\n",
       "      <td># In German Suburb, Life Goes On Without Cars ...</td>\n",
       "    </tr>\n",
       "    <tr>\n",
       "      <th>1</th>\n",
       "      <td>0</td>\n",
       "      <td>Transportation is a large necessity in most co...</td>\n",
       "      <td>Car-free cities</td>\n",
       "      <td>Write an explanatory essay to inform fellow ci...</td>\n",
       "      <td># In German Suburb, Life Goes On Without Cars ...</td>\n",
       "    </tr>\n",
       "    <tr>\n",
       "      <th>2</th>\n",
       "      <td>0</td>\n",
       "      <td>\"America's love affair with it's vehicles seem...</td>\n",
       "      <td>Car-free cities</td>\n",
       "      <td>Write an explanatory essay to inform fellow ci...</td>\n",
       "      <td># In German Suburb, Life Goes On Without Cars ...</td>\n",
       "    </tr>\n",
       "    <tr>\n",
       "      <th>3</th>\n",
       "      <td>0</td>\n",
       "      <td>How often do you ride in a car? Do you drive a...</td>\n",
       "      <td>Car-free cities</td>\n",
       "      <td>Write an explanatory essay to inform fellow ci...</td>\n",
       "      <td># In German Suburb, Life Goes On Without Cars ...</td>\n",
       "    </tr>\n",
       "    <tr>\n",
       "      <th>4</th>\n",
       "      <td>0</td>\n",
       "      <td>Cars are a wonderful thing. They are perhaps o...</td>\n",
       "      <td>Car-free cities</td>\n",
       "      <td>Write an explanatory essay to inform fellow ci...</td>\n",
       "      <td># In German Suburb, Life Goes On Without Cars ...</td>\n",
       "    </tr>\n",
       "    <tr>\n",
       "      <th>...</th>\n",
       "      <td>...</td>\n",
       "      <td>...</td>\n",
       "      <td>...</td>\n",
       "      <td>...</td>\n",
       "      <td>...</td>\n",
       "    </tr>\n",
       "    <tr>\n",
       "      <th>1373</th>\n",
       "      <td>1</td>\n",
       "      <td>There has been a fuss about the Elector Colleg...</td>\n",
       "      <td>Does the electoral college work?</td>\n",
       "      <td>Write a letter to your state senator in which ...</td>\n",
       "      <td># What Is the Electoral College? by the Office...</td>\n",
       "    </tr>\n",
       "    <tr>\n",
       "      <th>1374</th>\n",
       "      <td>0</td>\n",
       "      <td>Limiting car usage has many advantages. Such a...</td>\n",
       "      <td>Car-free cities</td>\n",
       "      <td>Write an explanatory essay to inform fellow ci...</td>\n",
       "      <td># In German Suburb, Life Goes On Without Cars ...</td>\n",
       "    </tr>\n",
       "    <tr>\n",
       "      <th>1375</th>\n",
       "      <td>0</td>\n",
       "      <td>There's a new trend that has been developing f...</td>\n",
       "      <td>Car-free cities</td>\n",
       "      <td>Write an explanatory essay to inform fellow ci...</td>\n",
       "      <td># In German Suburb, Life Goes On Without Cars ...</td>\n",
       "    </tr>\n",
       "    <tr>\n",
       "      <th>1376</th>\n",
       "      <td>0</td>\n",
       "      <td>As we all know cars are a big part of our soci...</td>\n",
       "      <td>Car-free cities</td>\n",
       "      <td>Write an explanatory essay to inform fellow ci...</td>\n",
       "      <td># In German Suburb, Life Goes On Without Cars ...</td>\n",
       "    </tr>\n",
       "    <tr>\n",
       "      <th>1377</th>\n",
       "      <td>0</td>\n",
       "      <td>Cars have been around since the 1800's and hav...</td>\n",
       "      <td>Car-free cities</td>\n",
       "      <td>Write an explanatory essay to inform fellow ci...</td>\n",
       "      <td># In German Suburb, Life Goes On Without Cars ...</td>\n",
       "    </tr>\n",
       "  </tbody>\n",
       "</table>\n",
       "<p>1378 rows × 5 columns</p>\n",
       "</div>"
      ],
      "text/plain": [
       "      prompt_id                                               text  \\\n",
       "0             0  Cars. Cars have been around since they became ...   \n",
       "1             0  Transportation is a large necessity in most co...   \n",
       "2             0  \"America's love affair with it's vehicles seem...   \n",
       "3             0  How often do you ride in a car? Do you drive a...   \n",
       "4             0  Cars are a wonderful thing. They are perhaps o...   \n",
       "...         ...                                                ...   \n",
       "1373          1  There has been a fuss about the Elector Colleg...   \n",
       "1374          0  Limiting car usage has many advantages. Such a...   \n",
       "1375          0  There's a new trend that has been developing f...   \n",
       "1376          0  As we all know cars are a big part of our soci...   \n",
       "1377          0  Cars have been around since the 1800's and hav...   \n",
       "\n",
       "                           prompt_name  \\\n",
       "0                      Car-free cities   \n",
       "1                      Car-free cities   \n",
       "2                      Car-free cities   \n",
       "3                      Car-free cities   \n",
       "4                      Car-free cities   \n",
       "...                                ...   \n",
       "1373  Does the electoral college work?   \n",
       "1374                   Car-free cities   \n",
       "1375                   Car-free cities   \n",
       "1376                   Car-free cities   \n",
       "1377                   Car-free cities   \n",
       "\n",
       "                                           instructions  \\\n",
       "0     Write an explanatory essay to inform fellow ci...   \n",
       "1     Write an explanatory essay to inform fellow ci...   \n",
       "2     Write an explanatory essay to inform fellow ci...   \n",
       "3     Write an explanatory essay to inform fellow ci...   \n",
       "4     Write an explanatory essay to inform fellow ci...   \n",
       "...                                                 ...   \n",
       "1373  Write a letter to your state senator in which ...   \n",
       "1374  Write an explanatory essay to inform fellow ci...   \n",
       "1375  Write an explanatory essay to inform fellow ci...   \n",
       "1376  Write an explanatory essay to inform fellow ci...   \n",
       "1377  Write an explanatory essay to inform fellow ci...   \n",
       "\n",
       "                                            source_text  \n",
       "0     # In German Suburb, Life Goes On Without Cars ...  \n",
       "1     # In German Suburb, Life Goes On Without Cars ...  \n",
       "2     # In German Suburb, Life Goes On Without Cars ...  \n",
       "3     # In German Suburb, Life Goes On Without Cars ...  \n",
       "4     # In German Suburb, Life Goes On Without Cars ...  \n",
       "...                                                 ...  \n",
       "1373  # What Is the Electoral College? by the Office...  \n",
       "1374  # In German Suburb, Life Goes On Without Cars ...  \n",
       "1375  # In German Suburb, Life Goes On Without Cars ...  \n",
       "1376  # In German Suburb, Life Goes On Without Cars ...  \n",
       "1377  # In German Suburb, Life Goes On Without Cars ...  \n",
       "\n",
       "[1378 rows x 5 columns]"
      ]
     },
     "execution_count": 16,
     "metadata": {},
     "output_type": "execute_result"
    }
   ],
   "source": [
    "x"
   ]
  },
  {
   "cell_type": "code",
   "execution_count": 17,
   "id": "808bc9a6",
   "metadata": {
    "execution": {
     "iopub.execute_input": "2024-09-16T11:19:47.717606Z",
     "iopub.status.busy": "2024-09-16T11:19:47.717197Z",
     "iopub.status.idle": "2024-09-16T11:19:49.253897Z",
     "shell.execute_reply": "2024-09-16T11:19:49.251980Z"
    },
    "papermill": {
     "duration": 1.563892,
     "end_time": "2024-09-16T11:19:49.257170",
     "exception": false,
     "start_time": "2024-09-16T11:19:47.693278",
     "status": "completed"
    },
    "tags": []
   },
   "outputs": [],
   "source": [
    "from sklearn.preprocessing import LabelEncoder"
   ]
  },
  {
   "cell_type": "code",
   "execution_count": 18,
   "id": "c6044691",
   "metadata": {
    "execution": {
     "iopub.execute_input": "2024-09-16T11:19:49.306259Z",
     "iopub.status.busy": "2024-09-16T11:19:49.305448Z",
     "iopub.status.idle": "2024-09-16T11:19:49.318939Z",
     "shell.execute_reply": "2024-09-16T11:19:49.316852Z"
    },
    "papermill": {
     "duration": 0.040812,
     "end_time": "2024-09-16T11:19:49.322307",
     "exception": false,
     "start_time": "2024-09-16T11:19:49.281495",
     "status": "completed"
    },
    "tags": []
   },
   "outputs": [],
   "source": [
    "columns_to_encode = ['prompt_name', 'instructions','source_text']\n",
    "\n",
    "le = LabelEncoder()\n",
    "\n",
    "for column in columns_to_encode:\n",
    "    x[column] = le.fit_transform(x[column])\n"
   ]
  },
  {
   "cell_type": "code",
   "execution_count": 19,
   "id": "4fdde7ca",
   "metadata": {
    "execution": {
     "iopub.execute_input": "2024-09-16T11:19:49.369742Z",
     "iopub.status.busy": "2024-09-16T11:19:49.369129Z",
     "iopub.status.idle": "2024-09-16T11:19:49.392414Z",
     "shell.execute_reply": "2024-09-16T11:19:49.390464Z"
    },
    "papermill": {
     "duration": 0.051018,
     "end_time": "2024-09-16T11:19:49.395551",
     "exception": false,
     "start_time": "2024-09-16T11:19:49.344533",
     "status": "completed"
    },
    "tags": []
   },
   "outputs": [
    {
     "data": {
      "text/html": [
       "<div>\n",
       "<style scoped>\n",
       "    .dataframe tbody tr th:only-of-type {\n",
       "        vertical-align: middle;\n",
       "    }\n",
       "\n",
       "    .dataframe tbody tr th {\n",
       "        vertical-align: top;\n",
       "    }\n",
       "\n",
       "    .dataframe thead th {\n",
       "        text-align: right;\n",
       "    }\n",
       "</style>\n",
       "<table border=\"1\" class=\"dataframe\">\n",
       "  <thead>\n",
       "    <tr style=\"text-align: right;\">\n",
       "      <th></th>\n",
       "      <th>prompt_id</th>\n",
       "      <th>text</th>\n",
       "      <th>generated</th>\n",
       "      <th>prompt_name</th>\n",
       "      <th>instructions</th>\n",
       "      <th>source_text</th>\n",
       "    </tr>\n",
       "  </thead>\n",
       "  <tbody>\n",
       "    <tr>\n",
       "      <th>0</th>\n",
       "      <td>0</td>\n",
       "      <td>Cars. Cars have been around since they became ...</td>\n",
       "      <td>0</td>\n",
       "      <td>Car-free cities</td>\n",
       "      <td>Write an explanatory essay to inform fellow ci...</td>\n",
       "      <td># In German Suburb, Life Goes On Without Cars ...</td>\n",
       "    </tr>\n",
       "    <tr>\n",
       "      <th>1</th>\n",
       "      <td>0</td>\n",
       "      <td>Transportation is a large necessity in most co...</td>\n",
       "      <td>0</td>\n",
       "      <td>Car-free cities</td>\n",
       "      <td>Write an explanatory essay to inform fellow ci...</td>\n",
       "      <td># In German Suburb, Life Goes On Without Cars ...</td>\n",
       "    </tr>\n",
       "    <tr>\n",
       "      <th>2</th>\n",
       "      <td>0</td>\n",
       "      <td>\"America's love affair with it's vehicles seem...</td>\n",
       "      <td>0</td>\n",
       "      <td>Car-free cities</td>\n",
       "      <td>Write an explanatory essay to inform fellow ci...</td>\n",
       "      <td># In German Suburb, Life Goes On Without Cars ...</td>\n",
       "    </tr>\n",
       "    <tr>\n",
       "      <th>3</th>\n",
       "      <td>0</td>\n",
       "      <td>How often do you ride in a car? Do you drive a...</td>\n",
       "      <td>0</td>\n",
       "      <td>Car-free cities</td>\n",
       "      <td>Write an explanatory essay to inform fellow ci...</td>\n",
       "      <td># In German Suburb, Life Goes On Without Cars ...</td>\n",
       "    </tr>\n",
       "    <tr>\n",
       "      <th>4</th>\n",
       "      <td>0</td>\n",
       "      <td>Cars are a wonderful thing. They are perhaps o...</td>\n",
       "      <td>0</td>\n",
       "      <td>Car-free cities</td>\n",
       "      <td>Write an explanatory essay to inform fellow ci...</td>\n",
       "      <td># In German Suburb, Life Goes On Without Cars ...</td>\n",
       "    </tr>\n",
       "    <tr>\n",
       "      <th>...</th>\n",
       "      <td>...</td>\n",
       "      <td>...</td>\n",
       "      <td>...</td>\n",
       "      <td>...</td>\n",
       "      <td>...</td>\n",
       "      <td>...</td>\n",
       "    </tr>\n",
       "    <tr>\n",
       "      <th>1373</th>\n",
       "      <td>1</td>\n",
       "      <td>There has been a fuss about the Elector Colleg...</td>\n",
       "      <td>0</td>\n",
       "      <td>Does the electoral college work?</td>\n",
       "      <td>Write a letter to your state senator in which ...</td>\n",
       "      <td># What Is the Electoral College? by the Office...</td>\n",
       "    </tr>\n",
       "    <tr>\n",
       "      <th>1374</th>\n",
       "      <td>0</td>\n",
       "      <td>Limiting car usage has many advantages. Such a...</td>\n",
       "      <td>0</td>\n",
       "      <td>Car-free cities</td>\n",
       "      <td>Write an explanatory essay to inform fellow ci...</td>\n",
       "      <td># In German Suburb, Life Goes On Without Cars ...</td>\n",
       "    </tr>\n",
       "    <tr>\n",
       "      <th>1375</th>\n",
       "      <td>0</td>\n",
       "      <td>There's a new trend that has been developing f...</td>\n",
       "      <td>0</td>\n",
       "      <td>Car-free cities</td>\n",
       "      <td>Write an explanatory essay to inform fellow ci...</td>\n",
       "      <td># In German Suburb, Life Goes On Without Cars ...</td>\n",
       "    </tr>\n",
       "    <tr>\n",
       "      <th>1376</th>\n",
       "      <td>0</td>\n",
       "      <td>As we all know cars are a big part of our soci...</td>\n",
       "      <td>0</td>\n",
       "      <td>Car-free cities</td>\n",
       "      <td>Write an explanatory essay to inform fellow ci...</td>\n",
       "      <td># In German Suburb, Life Goes On Without Cars ...</td>\n",
       "    </tr>\n",
       "    <tr>\n",
       "      <th>1377</th>\n",
       "      <td>0</td>\n",
       "      <td>Cars have been around since the 1800's and hav...</td>\n",
       "      <td>0</td>\n",
       "      <td>Car-free cities</td>\n",
       "      <td>Write an explanatory essay to inform fellow ci...</td>\n",
       "      <td># In German Suburb, Life Goes On Without Cars ...</td>\n",
       "    </tr>\n",
       "  </tbody>\n",
       "</table>\n",
       "<p>1378 rows × 6 columns</p>\n",
       "</div>"
      ],
      "text/plain": [
       "      prompt_id                                               text  generated  \\\n",
       "0             0  Cars. Cars have been around since they became ...          0   \n",
       "1             0  Transportation is a large necessity in most co...          0   \n",
       "2             0  \"America's love affair with it's vehicles seem...          0   \n",
       "3             0  How often do you ride in a car? Do you drive a...          0   \n",
       "4             0  Cars are a wonderful thing. They are perhaps o...          0   \n",
       "...         ...                                                ...        ...   \n",
       "1373          1  There has been a fuss about the Elector Colleg...          0   \n",
       "1374          0  Limiting car usage has many advantages. Such a...          0   \n",
       "1375          0  There's a new trend that has been developing f...          0   \n",
       "1376          0  As we all know cars are a big part of our soci...          0   \n",
       "1377          0  Cars have been around since the 1800's and hav...          0   \n",
       "\n",
       "                           prompt_name  \\\n",
       "0                      Car-free cities   \n",
       "1                      Car-free cities   \n",
       "2                      Car-free cities   \n",
       "3                      Car-free cities   \n",
       "4                      Car-free cities   \n",
       "...                                ...   \n",
       "1373  Does the electoral college work?   \n",
       "1374                   Car-free cities   \n",
       "1375                   Car-free cities   \n",
       "1376                   Car-free cities   \n",
       "1377                   Car-free cities   \n",
       "\n",
       "                                           instructions  \\\n",
       "0     Write an explanatory essay to inform fellow ci...   \n",
       "1     Write an explanatory essay to inform fellow ci...   \n",
       "2     Write an explanatory essay to inform fellow ci...   \n",
       "3     Write an explanatory essay to inform fellow ci...   \n",
       "4     Write an explanatory essay to inform fellow ci...   \n",
       "...                                                 ...   \n",
       "1373  Write a letter to your state senator in which ...   \n",
       "1374  Write an explanatory essay to inform fellow ci...   \n",
       "1375  Write an explanatory essay to inform fellow ci...   \n",
       "1376  Write an explanatory essay to inform fellow ci...   \n",
       "1377  Write an explanatory essay to inform fellow ci...   \n",
       "\n",
       "                                            source_text  \n",
       "0     # In German Suburb, Life Goes On Without Cars ...  \n",
       "1     # In German Suburb, Life Goes On Without Cars ...  \n",
       "2     # In German Suburb, Life Goes On Without Cars ...  \n",
       "3     # In German Suburb, Life Goes On Without Cars ...  \n",
       "4     # In German Suburb, Life Goes On Without Cars ...  \n",
       "...                                                 ...  \n",
       "1373  # What Is the Electoral College? by the Office...  \n",
       "1374  # In German Suburb, Life Goes On Without Cars ...  \n",
       "1375  # In German Suburb, Life Goes On Without Cars ...  \n",
       "1376  # In German Suburb, Life Goes On Without Cars ...  \n",
       "1377  # In German Suburb, Life Goes On Without Cars ...  \n",
       "\n",
       "[1378 rows x 6 columns]"
      ]
     },
     "execution_count": 19,
     "metadata": {},
     "output_type": "execute_result"
    }
   ],
   "source": [
    "df"
   ]
  },
  {
   "cell_type": "code",
   "execution_count": 20,
   "id": "74fbc11d",
   "metadata": {
    "execution": {
     "iopub.execute_input": "2024-09-16T11:19:49.445758Z",
     "iopub.status.busy": "2024-09-16T11:19:49.445187Z",
     "iopub.status.idle": "2024-09-16T11:19:50.579270Z",
     "shell.execute_reply": "2024-09-16T11:19:50.577996Z"
    },
    "papermill": {
     "duration": 1.162204,
     "end_time": "2024-09-16T11:19:50.582205",
     "exception": false,
     "start_time": "2024-09-16T11:19:49.420001",
     "status": "completed"
    },
    "tags": []
   },
   "outputs": [
    {
     "name": "stdout",
     "output_type": "stream",
     "text": [
      "[nltk_data] Downloading package stopwords to /usr/share/nltk_data...\n",
      "[nltk_data]   Package stopwords is already up-to-date!\n"
     ]
    },
    {
     "data": {
      "text/plain": [
       "True"
      ]
     },
     "execution_count": 20,
     "metadata": {},
     "output_type": "execute_result"
    }
   ],
   "source": [
    "import nltk\n",
    "nltk.download('stopwords')"
   ]
  },
  {
   "cell_type": "code",
   "execution_count": 21,
   "id": "5bdc8afb",
   "metadata": {
    "execution": {
     "iopub.execute_input": "2024-09-16T11:19:50.636983Z",
     "iopub.status.busy": "2024-09-16T11:19:50.636520Z",
     "iopub.status.idle": "2024-09-16T11:19:50.643475Z",
     "shell.execute_reply": "2024-09-16T11:19:50.641605Z"
    },
    "papermill": {
     "duration": 0.038734,
     "end_time": "2024-09-16T11:19:50.647192",
     "exception": false,
     "start_time": "2024-09-16T11:19:50.608458",
     "status": "completed"
    },
    "tags": []
   },
   "outputs": [],
   "source": [
    "from nltk.corpus import stopwords\n",
    "from nltk.tokenize import word_tokenize"
   ]
  },
  {
   "cell_type": "code",
   "execution_count": 22,
   "id": "44313b7d",
   "metadata": {
    "execution": {
     "iopub.execute_input": "2024-09-16T11:19:50.698384Z",
     "iopub.status.busy": "2024-09-16T11:19:50.697339Z",
     "iopub.status.idle": "2024-09-16T11:19:50.706949Z",
     "shell.execute_reply": "2024-09-16T11:19:50.705509Z"
    },
    "papermill": {
     "duration": 0.038749,
     "end_time": "2024-09-16T11:19:50.709977",
     "exception": false,
     "start_time": "2024-09-16T11:19:50.671228",
     "status": "completed"
    },
    "tags": []
   },
   "outputs": [],
   "source": [
    "stop_words = set(stopwords.words('english'))"
   ]
  },
  {
   "cell_type": "code",
   "execution_count": 23,
   "id": "115a6c6d",
   "metadata": {
    "execution": {
     "iopub.execute_input": "2024-09-16T11:19:50.759687Z",
     "iopub.status.busy": "2024-09-16T11:19:50.759228Z",
     "iopub.status.idle": "2024-09-16T11:19:50.766287Z",
     "shell.execute_reply": "2024-09-16T11:19:50.764714Z"
    },
    "papermill": {
     "duration": 0.035347,
     "end_time": "2024-09-16T11:19:50.769204",
     "exception": false,
     "start_time": "2024-09-16T11:19:50.733857",
     "status": "completed"
    },
    "tags": []
   },
   "outputs": [],
   "source": [
    "def remove_stopwords(text):\n",
    "    words = word_tokenize(text)  \n",
    "    words_filtered = [word for word in words if word.lower() not in stop_words]\n",
    "    return ' '.join(words_filtered)"
   ]
  },
  {
   "cell_type": "code",
   "execution_count": 24,
   "id": "4261743f",
   "metadata": {
    "execution": {
     "iopub.execute_input": "2024-09-16T11:19:50.817582Z",
     "iopub.status.busy": "2024-09-16T11:19:50.817160Z",
     "iopub.status.idle": "2024-09-16T11:20:02.400559Z",
     "shell.execute_reply": "2024-09-16T11:20:02.399445Z"
    },
    "papermill": {
     "duration": 11.611945,
     "end_time": "2024-09-16T11:20:02.403892",
     "exception": false,
     "start_time": "2024-09-16T11:19:50.791947",
     "status": "completed"
    },
    "tags": []
   },
   "outputs": [],
   "source": [
    "x['text'] = x['text'].apply(remove_stopwords)"
   ]
  },
  {
   "cell_type": "code",
   "execution_count": 25,
   "id": "4ab99406",
   "metadata": {
    "execution": {
     "iopub.execute_input": "2024-09-16T11:20:02.454563Z",
     "iopub.status.busy": "2024-09-16T11:20:02.454123Z",
     "iopub.status.idle": "2024-09-16T11:20:02.469917Z",
     "shell.execute_reply": "2024-09-16T11:20:02.468492Z"
    },
    "papermill": {
     "duration": 0.044918,
     "end_time": "2024-09-16T11:20:02.472663",
     "exception": false,
     "start_time": "2024-09-16T11:20:02.427745",
     "status": "completed"
    },
    "tags": []
   },
   "outputs": [
    {
     "data": {
      "text/html": [
       "<div>\n",
       "<style scoped>\n",
       "    .dataframe tbody tr th:only-of-type {\n",
       "        vertical-align: middle;\n",
       "    }\n",
       "\n",
       "    .dataframe tbody tr th {\n",
       "        vertical-align: top;\n",
       "    }\n",
       "\n",
       "    .dataframe thead th {\n",
       "        text-align: right;\n",
       "    }\n",
       "</style>\n",
       "<table border=\"1\" class=\"dataframe\">\n",
       "  <thead>\n",
       "    <tr style=\"text-align: right;\">\n",
       "      <th></th>\n",
       "      <th>prompt_id</th>\n",
       "      <th>text</th>\n",
       "      <th>prompt_name</th>\n",
       "      <th>instructions</th>\n",
       "      <th>source_text</th>\n",
       "    </tr>\n",
       "  </thead>\n",
       "  <tbody>\n",
       "    <tr>\n",
       "      <th>0</th>\n",
       "      <td>0</td>\n",
       "      <td>Cars . Cars around since became famous 1900s ,...</td>\n",
       "      <td>0</td>\n",
       "      <td>1</td>\n",
       "      <td>0</td>\n",
       "    </tr>\n",
       "    <tr>\n",
       "      <th>1</th>\n",
       "      <td>0</td>\n",
       "      <td>Transportation large necessity countries world...</td>\n",
       "      <td>0</td>\n",
       "      <td>1</td>\n",
       "      <td>0</td>\n",
       "    </tr>\n",
       "    <tr>\n",
       "      <th>2</th>\n",
       "      <td>0</td>\n",
       "      <td>`` America 's love affair 's vehicles seems co...</td>\n",
       "      <td>0</td>\n",
       "      <td>1</td>\n",
       "      <td>0</td>\n",
       "    </tr>\n",
       "    <tr>\n",
       "      <th>3</th>\n",
       "      <td>0</td>\n",
       "      <td>often ride car ? drive one motor vehicle work ...</td>\n",
       "      <td>0</td>\n",
       "      <td>1</td>\n",
       "      <td>0</td>\n",
       "    </tr>\n",
       "    <tr>\n",
       "      <th>4</th>\n",
       "      <td>0</td>\n",
       "      <td>Cars wonderful thing . perhaps one worlds grea...</td>\n",
       "      <td>0</td>\n",
       "      <td>1</td>\n",
       "      <td>0</td>\n",
       "    </tr>\n",
       "    <tr>\n",
       "      <th>...</th>\n",
       "      <td>...</td>\n",
       "      <td>...</td>\n",
       "      <td>...</td>\n",
       "      <td>...</td>\n",
       "      <td>...</td>\n",
       "    </tr>\n",
       "    <tr>\n",
       "      <th>1373</th>\n",
       "      <td>1</td>\n",
       "      <td>fuss Elector College . Many people get confuse...</td>\n",
       "      <td>1</td>\n",
       "      <td>0</td>\n",
       "      <td>1</td>\n",
       "    </tr>\n",
       "    <tr>\n",
       "      <th>1374</th>\n",
       "      <td>0</td>\n",
       "      <td>Limiting car usage many advantages . putting l...</td>\n",
       "      <td>0</td>\n",
       "      <td>1</td>\n",
       "      <td>0</td>\n",
       "    </tr>\n",
       "    <tr>\n",
       "      <th>1375</th>\n",
       "      <td>0</td>\n",
       "      <td>'s new trend developing years , soon full thro...</td>\n",
       "      <td>0</td>\n",
       "      <td>1</td>\n",
       "      <td>0</td>\n",
       "    </tr>\n",
       "    <tr>\n",
       "      <th>1376</th>\n",
       "      <td>0</td>\n",
       "      <td>know cars big part society today . However car...</td>\n",
       "      <td>0</td>\n",
       "      <td>1</td>\n",
       "      <td>0</td>\n",
       "    </tr>\n",
       "    <tr>\n",
       "      <th>1377</th>\n",
       "      <td>0</td>\n",
       "      <td>Cars around since 1800 's popular ever since ....</td>\n",
       "      <td>0</td>\n",
       "      <td>1</td>\n",
       "      <td>0</td>\n",
       "    </tr>\n",
       "  </tbody>\n",
       "</table>\n",
       "<p>1378 rows × 5 columns</p>\n",
       "</div>"
      ],
      "text/plain": [
       "      prompt_id                                               text  \\\n",
       "0             0  Cars . Cars around since became famous 1900s ,...   \n",
       "1             0  Transportation large necessity countries world...   \n",
       "2             0  `` America 's love affair 's vehicles seems co...   \n",
       "3             0  often ride car ? drive one motor vehicle work ...   \n",
       "4             0  Cars wonderful thing . perhaps one worlds grea...   \n",
       "...         ...                                                ...   \n",
       "1373          1  fuss Elector College . Many people get confuse...   \n",
       "1374          0  Limiting car usage many advantages . putting l...   \n",
       "1375          0  's new trend developing years , soon full thro...   \n",
       "1376          0  know cars big part society today . However car...   \n",
       "1377          0  Cars around since 1800 's popular ever since ....   \n",
       "\n",
       "      prompt_name  instructions  source_text  \n",
       "0               0             1            0  \n",
       "1               0             1            0  \n",
       "2               0             1            0  \n",
       "3               0             1            0  \n",
       "4               0             1            0  \n",
       "...           ...           ...          ...  \n",
       "1373            1             0            1  \n",
       "1374            0             1            0  \n",
       "1375            0             1            0  \n",
       "1376            0             1            0  \n",
       "1377            0             1            0  \n",
       "\n",
       "[1378 rows x 5 columns]"
      ]
     },
     "execution_count": 25,
     "metadata": {},
     "output_type": "execute_result"
    }
   ],
   "source": [
    "x"
   ]
  },
  {
   "cell_type": "code",
   "execution_count": 26,
   "id": "f408fda8",
   "metadata": {
    "execution": {
     "iopub.execute_input": "2024-09-16T11:20:02.522338Z",
     "iopub.status.busy": "2024-09-16T11:20:02.521867Z",
     "iopub.status.idle": "2024-09-16T11:20:02.528022Z",
     "shell.execute_reply": "2024-09-16T11:20:02.526692Z"
    },
    "papermill": {
     "duration": 0.034841,
     "end_time": "2024-09-16T11:20:02.531054",
     "exception": false,
     "start_time": "2024-09-16T11:20:02.496213",
     "status": "completed"
    },
    "tags": []
   },
   "outputs": [],
   "source": [
    "from nltk.tokenize import word_tokenize"
   ]
  },
  {
   "cell_type": "code",
   "execution_count": 27,
   "id": "d5421ea6",
   "metadata": {
    "execution": {
     "iopub.execute_input": "2024-09-16T11:20:02.580370Z",
     "iopub.status.busy": "2024-09-16T11:20:02.579868Z",
     "iopub.status.idle": "2024-09-16T11:20:02.586513Z",
     "shell.execute_reply": "2024-09-16T11:20:02.584928Z"
    },
    "papermill": {
     "duration": 0.03516,
     "end_time": "2024-09-16T11:20:02.589702",
     "exception": false,
     "start_time": "2024-09-16T11:20:02.554542",
     "status": "completed"
    },
    "tags": []
   },
   "outputs": [],
   "source": [
    "import string"
   ]
  },
  {
   "cell_type": "code",
   "execution_count": 28,
   "id": "19f32525",
   "metadata": {
    "execution": {
     "iopub.execute_input": "2024-09-16T11:20:02.642496Z",
     "iopub.status.busy": "2024-09-16T11:20:02.642007Z",
     "iopub.status.idle": "2024-09-16T11:20:02.648064Z",
     "shell.execute_reply": "2024-09-16T11:20:02.646744Z"
    },
    "papermill": {
     "duration": 0.037551,
     "end_time": "2024-09-16T11:20:02.651565",
     "exception": false,
     "start_time": "2024-09-16T11:20:02.614014",
     "status": "completed"
    },
    "tags": []
   },
   "outputs": [],
   "source": [
    "custom_punctuation = string.punctuation + '‘’“”'"
   ]
  },
  {
   "cell_type": "code",
   "execution_count": 29,
   "id": "997bcf0e",
   "metadata": {
    "execution": {
     "iopub.execute_input": "2024-09-16T11:20:02.701594Z",
     "iopub.status.busy": "2024-09-16T11:20:02.700990Z",
     "iopub.status.idle": "2024-09-16T11:20:02.708047Z",
     "shell.execute_reply": "2024-09-16T11:20:02.706394Z"
    },
    "papermill": {
     "duration": 0.034878,
     "end_time": "2024-09-16T11:20:02.710760",
     "exception": false,
     "start_time": "2024-09-16T11:20:02.675882",
     "status": "completed"
    },
    "tags": []
   },
   "outputs": [],
   "source": [
    "def remove_punctuation(text):\n",
    "    words = word_tokenize(text)\n",
    "    words_filtered = [word for word in words if word not in custom_punctuation]\n",
    "    return ' '.join(words_filtered)"
   ]
  },
  {
   "cell_type": "code",
   "execution_count": 30,
   "id": "85046d0d",
   "metadata": {
    "execution": {
     "iopub.execute_input": "2024-09-16T11:20:02.761274Z",
     "iopub.status.busy": "2024-09-16T11:20:02.760806Z",
     "iopub.status.idle": "2024-09-16T11:20:02.768155Z",
     "shell.execute_reply": "2024-09-16T11:20:02.766386Z"
    },
    "papermill": {
     "duration": 0.036784,
     "end_time": "2024-09-16T11:20:02.771037",
     "exception": false,
     "start_time": "2024-09-16T11:20:02.734253",
     "status": "completed"
    },
    "tags": []
   },
   "outputs": [],
   "source": [
    "import string"
   ]
  },
  {
   "cell_type": "code",
   "execution_count": 31,
   "id": "a535c11c",
   "metadata": {
    "execution": {
     "iopub.execute_input": "2024-09-16T11:20:02.824423Z",
     "iopub.status.busy": "2024-09-16T11:20:02.823253Z",
     "iopub.status.idle": "2024-09-16T11:20:12.088957Z",
     "shell.execute_reply": "2024-09-16T11:20:12.087709Z"
    },
    "papermill": {
     "duration": 9.29618,
     "end_time": "2024-09-16T11:20:12.091925",
     "exception": false,
     "start_time": "2024-09-16T11:20:02.795745",
     "status": "completed"
    },
    "tags": []
   },
   "outputs": [],
   "source": [
    "x['text'] = x['text'].apply(remove_punctuation)"
   ]
  },
  {
   "cell_type": "code",
   "execution_count": 32,
   "id": "52d18e8d",
   "metadata": {
    "execution": {
     "iopub.execute_input": "2024-09-16T11:20:12.141304Z",
     "iopub.status.busy": "2024-09-16T11:20:12.140736Z",
     "iopub.status.idle": "2024-09-16T11:20:12.149949Z",
     "shell.execute_reply": "2024-09-16T11:20:12.148525Z"
    },
    "papermill": {
     "duration": 0.037079,
     "end_time": "2024-09-16T11:20:12.152594",
     "exception": false,
     "start_time": "2024-09-16T11:20:12.115515",
     "status": "completed"
    },
    "tags": []
   },
   "outputs": [
    {
     "data": {
      "text/plain": [
       "\"Cars Cars around since became famous 1900s Henry Ford created built first ModelT Cars played major role every day lives since people starting question limiting car usage would good thing limiting use cars might good thing like matter article `` German Suburb Life Goes Without Cars '' Elizabeth Rosenthal states automobiles linchpin suburbs middle class families either Shanghai Chicago tend make homes Experts say huge impediment current efforts reduce greenhouse gas emissions tailpipe Passenger cars responsible 12 percent greenhouse gas emissions Europe ... 50 percent carintensive areas United States Cars main reason greenhouse gas emissions lot people driving around time getting need go Article `` Paris bans driving due smog '' Robert Duffer says Paris days nearrecord pollution enforced partial driving ban clear air global city also says Monday motorist evennumbered license plates ordered leave cars home fined 22euro fine 31 order would applied oddnumbered plates following day Cars reason polluting entire cities like Paris shows bad cars pollution cause entire city Likewise article `` Carfree day spinning big hit Bogota '' Andrew Selsky says programs 's set spread countries millions Columbians hiked biked skated took bus work carfree day leaving streets capital city eerily devoid traffic jams third straight year cars banned buses taxis permitted Day Without Cars capital city 7 million People like idea carfree days allows lesson pollution cars put exhaust people driving time article also tells parks sports centers bustled throughout city uneven pitted sidewalks replaced broad smooth sidewalks rushhour restrictions dramatically cut traffic new restaurants upscale shopping districts cropped cars good country Columbia aloud repair things needed repairs long time traffic jams gone restaurants shopping districts popped due fact less cars around conclusion use less cars carfree days big impact environment cities cutting air pollution cars majorly polluted aloud countries like Columbia repair sidewalks cut traffic jams Limiting use cars would good thing America limit use cars maybe riding bike maybe walking somewhere n't far n't need use car get limiting use cars might good thing\""
      ]
     },
     "execution_count": 32,
     "metadata": {},
     "output_type": "execute_result"
    }
   ],
   "source": [
    "x['text'][0]"
   ]
  },
  {
   "cell_type": "code",
   "execution_count": 33,
   "id": "71db9bc8",
   "metadata": {
    "execution": {
     "iopub.execute_input": "2024-09-16T11:20:12.204942Z",
     "iopub.status.busy": "2024-09-16T11:20:12.203425Z",
     "iopub.status.idle": "2024-09-16T11:20:12.210857Z",
     "shell.execute_reply": "2024-09-16T11:20:12.209512Z"
    },
    "papermill": {
     "duration": 0.036848,
     "end_time": "2024-09-16T11:20:12.214106",
     "exception": false,
     "start_time": "2024-09-16T11:20:12.177258",
     "status": "completed"
    },
    "tags": []
   },
   "outputs": [],
   "source": [
    "def remove_quotes(text):\n",
    "    \n",
    "    quotes_to_remove = ['\"', \"'\", '‘', '’', '“', '”',\"''\",'\"\"',\"``\",\".\"]\n",
    "    \n",
    "    for quote in quotes_to_remove:\n",
    "        text = text.replace(quote, \"\")\n",
    "    return text"
   ]
  },
  {
   "cell_type": "code",
   "execution_count": 34,
   "id": "6865724f",
   "metadata": {
    "execution": {
     "iopub.execute_input": "2024-09-16T11:20:12.331361Z",
     "iopub.status.busy": "2024-09-16T11:20:12.330800Z",
     "iopub.status.idle": "2024-09-16T11:20:12.368633Z",
     "shell.execute_reply": "2024-09-16T11:20:12.366817Z"
    },
    "papermill": {
     "duration": 0.131483,
     "end_time": "2024-09-16T11:20:12.373240",
     "exception": false,
     "start_time": "2024-09-16T11:20:12.241757",
     "status": "completed"
    },
    "tags": []
   },
   "outputs": [],
   "source": [
    "x['text'] = x['text'].apply(remove_quotes)"
   ]
  },
  {
   "cell_type": "code",
   "execution_count": 35,
   "id": "35483e4e",
   "metadata": {
    "execution": {
     "iopub.execute_input": "2024-09-16T11:20:12.424684Z",
     "iopub.status.busy": "2024-09-16T11:20:12.424112Z",
     "iopub.status.idle": "2024-09-16T11:20:12.432526Z",
     "shell.execute_reply": "2024-09-16T11:20:12.431361Z"
    },
    "papermill": {
     "duration": 0.036831,
     "end_time": "2024-09-16T11:20:12.435639",
     "exception": false,
     "start_time": "2024-09-16T11:20:12.398808",
     "status": "completed"
    },
    "tags": []
   },
   "outputs": [
    {
     "data": {
      "text/plain": [
       "'Cars Cars around since became famous 1900s Henry Ford created built first ModelT Cars played major role every day lives since people starting question limiting car usage would good thing limiting use cars might good thing like matter article  German Suburb Life Goes Without Cars  Elizabeth Rosenthal states automobiles linchpin suburbs middle class families either Shanghai Chicago tend make homes Experts say huge impediment current efforts reduce greenhouse gas emissions tailpipe Passenger cars responsible 12 percent greenhouse gas emissions Europe  50 percent carintensive areas United States Cars main reason greenhouse gas emissions lot people driving around time getting need go Article  Paris bans driving due smog  Robert Duffer says Paris days nearrecord pollution enforced partial driving ban clear air global city also says Monday motorist evennumbered license plates ordered leave cars home fined 22euro fine 31 order would applied oddnumbered plates following day Cars reason polluting entire cities like Paris shows bad cars pollution cause entire city Likewise article  Carfree day spinning big hit Bogota  Andrew Selsky says programs s set spread countries millions Columbians hiked biked skated took bus work carfree day leaving streets capital city eerily devoid traffic jams third straight year cars banned buses taxis permitted Day Without Cars capital city 7 million People like idea carfree days allows lesson pollution cars put exhaust people driving time article also tells parks sports centers bustled throughout city uneven pitted sidewalks replaced broad smooth sidewalks rushhour restrictions dramatically cut traffic new restaurants upscale shopping districts cropped cars good country Columbia aloud repair things needed repairs long time traffic jams gone restaurants shopping districts popped due fact less cars around conclusion use less cars carfree days big impact environment cities cutting air pollution cars majorly polluted aloud countries like Columbia repair sidewalks cut traffic jams Limiting use cars would good thing America limit use cars maybe riding bike maybe walking somewhere nt far nt need use car get limiting use cars might good thing'"
      ]
     },
     "execution_count": 35,
     "metadata": {},
     "output_type": "execute_result"
    }
   ],
   "source": [
    "x['text'][0]"
   ]
  },
  {
   "cell_type": "code",
   "execution_count": 36,
   "id": "980b4815",
   "metadata": {
    "execution": {
     "iopub.execute_input": "2024-09-16T11:20:12.494270Z",
     "iopub.status.busy": "2024-09-16T11:20:12.492912Z",
     "iopub.status.idle": "2024-09-16T11:20:12.499856Z",
     "shell.execute_reply": "2024-09-16T11:20:12.498301Z"
    },
    "papermill": {
     "duration": 0.03667,
     "end_time": "2024-09-16T11:20:12.502892",
     "exception": false,
     "start_time": "2024-09-16T11:20:12.466222",
     "status": "completed"
    },
    "tags": []
   },
   "outputs": [],
   "source": [
    "def convert_to_lowercase(text):\n",
    "    return text.lower()"
   ]
  },
  {
   "cell_type": "code",
   "execution_count": 37,
   "id": "095f0db9",
   "metadata": {
    "execution": {
     "iopub.execute_input": "2024-09-16T11:20:12.555870Z",
     "iopub.status.busy": "2024-09-16T11:20:12.555389Z",
     "iopub.status.idle": "2024-09-16T11:20:12.565204Z",
     "shell.execute_reply": "2024-09-16T11:20:12.563698Z"
    },
    "papermill": {
     "duration": 0.038699,
     "end_time": "2024-09-16T11:20:12.568142",
     "exception": false,
     "start_time": "2024-09-16T11:20:12.529443",
     "status": "completed"
    },
    "tags": []
   },
   "outputs": [],
   "source": [
    "x['text'] = x['text'].apply(convert_to_lowercase)"
   ]
  },
  {
   "cell_type": "code",
   "execution_count": 38,
   "id": "7cd201a2",
   "metadata": {
    "execution": {
     "iopub.execute_input": "2024-09-16T11:20:12.621868Z",
     "iopub.status.busy": "2024-09-16T11:20:12.621373Z",
     "iopub.status.idle": "2024-09-16T11:20:12.630833Z",
     "shell.execute_reply": "2024-09-16T11:20:12.629327Z"
    },
    "papermill": {
     "duration": 0.040701,
     "end_time": "2024-09-16T11:20:12.634110",
     "exception": false,
     "start_time": "2024-09-16T11:20:12.593409",
     "status": "completed"
    },
    "tags": []
   },
   "outputs": [
    {
     "data": {
      "text/plain": [
       "'cars cars around since became famous 1900s henry ford created built first modelt cars played major role every day lives since people starting question limiting car usage would good thing limiting use cars might good thing like matter article  german suburb life goes without cars  elizabeth rosenthal states automobiles linchpin suburbs middle class families either shanghai chicago tend make homes experts say huge impediment current efforts reduce greenhouse gas emissions tailpipe passenger cars responsible 12 percent greenhouse gas emissions europe  50 percent carintensive areas united states cars main reason greenhouse gas emissions lot people driving around time getting need go article  paris bans driving due smog  robert duffer says paris days nearrecord pollution enforced partial driving ban clear air global city also says monday motorist evennumbered license plates ordered leave cars home fined 22euro fine 31 order would applied oddnumbered plates following day cars reason polluting entire cities like paris shows bad cars pollution cause entire city likewise article  carfree day spinning big hit bogota  andrew selsky says programs s set spread countries millions columbians hiked biked skated took bus work carfree day leaving streets capital city eerily devoid traffic jams third straight year cars banned buses taxis permitted day without cars capital city 7 million people like idea carfree days allows lesson pollution cars put exhaust people driving time article also tells parks sports centers bustled throughout city uneven pitted sidewalks replaced broad smooth sidewalks rushhour restrictions dramatically cut traffic new restaurants upscale shopping districts cropped cars good country columbia aloud repair things needed repairs long time traffic jams gone restaurants shopping districts popped due fact less cars around conclusion use less cars carfree days big impact environment cities cutting air pollution cars majorly polluted aloud countries like columbia repair sidewalks cut traffic jams limiting use cars would good thing america limit use cars maybe riding bike maybe walking somewhere nt far nt need use car get limiting use cars might good thing'"
      ]
     },
     "execution_count": 38,
     "metadata": {},
     "output_type": "execute_result"
    }
   ],
   "source": [
    "x['text'][0]"
   ]
  },
  {
   "cell_type": "code",
   "execution_count": 39,
   "id": "0532bc4e",
   "metadata": {
    "execution": {
     "iopub.execute_input": "2024-09-16T11:20:12.686187Z",
     "iopub.status.busy": "2024-09-16T11:20:12.685565Z",
     "iopub.status.idle": "2024-09-16T11:20:12.692171Z",
     "shell.execute_reply": "2024-09-16T11:20:12.691018Z"
    },
    "papermill": {
     "duration": 0.035463,
     "end_time": "2024-09-16T11:20:12.695118",
     "exception": false,
     "start_time": "2024-09-16T11:20:12.659655",
     "status": "completed"
    },
    "tags": []
   },
   "outputs": [],
   "source": [
    "from nltk.stem.porter import PorterStemmer"
   ]
  },
  {
   "cell_type": "code",
   "execution_count": 40,
   "id": "9dbbc52b",
   "metadata": {
    "execution": {
     "iopub.execute_input": "2024-09-16T11:20:12.749528Z",
     "iopub.status.busy": "2024-09-16T11:20:12.749085Z",
     "iopub.status.idle": "2024-09-16T11:20:12.754847Z",
     "shell.execute_reply": "2024-09-16T11:20:12.753515Z"
    },
    "papermill": {
     "duration": 0.036886,
     "end_time": "2024-09-16T11:20:12.758026",
     "exception": false,
     "start_time": "2024-09-16T11:20:12.721140",
     "status": "completed"
    },
    "tags": []
   },
   "outputs": [],
   "source": [
    "ps=PorterStemmer()"
   ]
  },
  {
   "cell_type": "code",
   "execution_count": 41,
   "id": "012c7bf8",
   "metadata": {
    "execution": {
     "iopub.execute_input": "2024-09-16T11:20:12.810099Z",
     "iopub.status.busy": "2024-09-16T11:20:12.809631Z",
     "iopub.status.idle": "2024-09-16T11:20:12.816015Z",
     "shell.execute_reply": "2024-09-16T11:20:12.814723Z"
    },
    "papermill": {
     "duration": 0.03627,
     "end_time": "2024-09-16T11:20:12.819131",
     "exception": false,
     "start_time": "2024-09-16T11:20:12.782861",
     "status": "completed"
    },
    "tags": []
   },
   "outputs": [],
   "source": [
    "def stem(text):\n",
    "    y=[]\n",
    "    \n",
    "    for i in text.split():\n",
    "        y.append(ps.stem(i))\n",
    "        \n",
    "    return ' '.join(y)\n",
    "        "
   ]
  },
  {
   "cell_type": "code",
   "execution_count": 42,
   "id": "7fb0909b",
   "metadata": {
    "execution": {
     "iopub.execute_input": "2024-09-16T11:20:12.869459Z",
     "iopub.status.busy": "2024-09-16T11:20:12.868414Z",
     "iopub.status.idle": "2024-09-16T11:20:29.200492Z",
     "shell.execute_reply": "2024-09-16T11:20:29.198830Z"
    },
    "papermill": {
     "duration": 16.360227,
     "end_time": "2024-09-16T11:20:29.203489",
     "exception": false,
     "start_time": "2024-09-16T11:20:12.843262",
     "status": "completed"
    },
    "tags": []
   },
   "outputs": [],
   "source": [
    "x['text'] = x['text'].apply(stem)"
   ]
  },
  {
   "cell_type": "code",
   "execution_count": 43,
   "id": "c6e9529a",
   "metadata": {
    "execution": {
     "iopub.execute_input": "2024-09-16T11:20:29.257823Z",
     "iopub.status.busy": "2024-09-16T11:20:29.257290Z",
     "iopub.status.idle": "2024-09-16T11:20:29.266758Z",
     "shell.execute_reply": "2024-09-16T11:20:29.264839Z"
    },
    "papermill": {
     "duration": 0.041465,
     "end_time": "2024-09-16T11:20:29.270122",
     "exception": false,
     "start_time": "2024-09-16T11:20:29.228657",
     "status": "completed"
    },
    "tags": []
   },
   "outputs": [
    {
     "data": {
      "text/plain": [
       "'car car around sinc becam famou 1900 henri ford creat built first modelt car play major role everi day live sinc peopl start question limit car usag would good thing limit use car might good thing like matter articl german suburb life goe without car elizabeth rosenth state automobil linchpin suburb middl class famili either shanghai chicago tend make home expert say huge impedi current effort reduc greenhous ga emiss tailpip passeng car respons 12 percent greenhous ga emiss europ 50 percent carintens area unit state car main reason greenhous ga emiss lot peopl drive around time get need go articl pari ban drive due smog robert duffer say pari day nearrecord pollut enforc partial drive ban clear air global citi also say monday motorist evennumb licens plate order leav car home fine 22euro fine 31 order would appli oddnumb plate follow day car reason pollut entir citi like pari show bad car pollut caus entir citi likewis articl carfre day spin big hit bogota andrew selski say program s set spread countri million columbian hike bike skate took bu work carfre day leav street capit citi eerili devoid traffic jam third straight year car ban buse taxi permit day without car capit citi 7 million peopl like idea carfre day allow lesson pollut car put exhaust peopl drive time articl also tell park sport center bustl throughout citi uneven pit sidewalk replac broad smooth sidewalk rushhour restrict dramat cut traffic new restaur upscal shop district crop car good countri columbia aloud repair thing need repair long time traffic jam gone restaur shop district pop due fact less car around conclus use less car carfre day big impact environ citi cut air pollut car majorli pollut aloud countri like columbia repair sidewalk cut traffic jam limit use car would good thing america limit use car mayb ride bike mayb walk somewher nt far nt need use car get limit use car might good thing'"
      ]
     },
     "execution_count": 43,
     "metadata": {},
     "output_type": "execute_result"
    }
   ],
   "source": [
    "x['text'][0]"
   ]
  },
  {
   "cell_type": "code",
   "execution_count": 44,
   "id": "4cfc88e1",
   "metadata": {
    "execution": {
     "iopub.execute_input": "2024-09-16T11:20:29.323183Z",
     "iopub.status.busy": "2024-09-16T11:20:29.322728Z",
     "iopub.status.idle": "2024-09-16T11:20:29.332752Z",
     "shell.execute_reply": "2024-09-16T11:20:29.331204Z"
    },
    "papermill": {
     "duration": 0.039656,
     "end_time": "2024-09-16T11:20:29.335527",
     "exception": false,
     "start_time": "2024-09-16T11:20:29.295871",
     "status": "completed"
    },
    "tags": []
   },
   "outputs": [
    {
     "data": {
      "text/plain": [
       "1373    fuss elector colleg mani peopl get confus work...\n",
       "1374    limit car usag mani advantag put lot less poll...\n",
       "1375    s new trend develop year soon full throttl aff...\n",
       "1376    know car big part societi today howev car bigg...\n",
       "1377    car around sinc 1800 s popular ever sinc altho...\n",
       "Name: text, dtype: object"
      ]
     },
     "execution_count": 44,
     "metadata": {},
     "output_type": "execute_result"
    }
   ],
   "source": [
    "x['text'].tail()"
   ]
  },
  {
   "cell_type": "code",
   "execution_count": 45,
   "id": "c691257b",
   "metadata": {
    "execution": {
     "iopub.execute_input": "2024-09-16T11:20:29.386073Z",
     "iopub.status.busy": "2024-09-16T11:20:29.385558Z",
     "iopub.status.idle": "2024-09-16T11:20:29.391052Z",
     "shell.execute_reply": "2024-09-16T11:20:29.389700Z"
    },
    "papermill": {
     "duration": 0.033845,
     "end_time": "2024-09-16T11:20:29.393581",
     "exception": false,
     "start_time": "2024-09-16T11:20:29.359736",
     "status": "completed"
    },
    "tags": []
   },
   "outputs": [],
   "source": [
    "from sklearn.feature_extraction.text import TfidfTransformer"
   ]
  },
  {
   "cell_type": "code",
   "execution_count": 46,
   "id": "dec627d1",
   "metadata": {
    "execution": {
     "iopub.execute_input": "2024-09-16T11:20:29.446912Z",
     "iopub.status.busy": "2024-09-16T11:20:29.445566Z",
     "iopub.status.idle": "2024-09-16T11:20:29.463722Z",
     "shell.execute_reply": "2024-09-16T11:20:29.462323Z"
    },
    "papermill": {
     "duration": 0.047708,
     "end_time": "2024-09-16T11:20:29.466875",
     "exception": false,
     "start_time": "2024-09-16T11:20:29.419167",
     "status": "completed"
    },
    "tags": []
   },
   "outputs": [
    {
     "data": {
      "text/html": [
       "<div>\n",
       "<style scoped>\n",
       "    .dataframe tbody tr th:only-of-type {\n",
       "        vertical-align: middle;\n",
       "    }\n",
       "\n",
       "    .dataframe tbody tr th {\n",
       "        vertical-align: top;\n",
       "    }\n",
       "\n",
       "    .dataframe thead th {\n",
       "        text-align: right;\n",
       "    }\n",
       "</style>\n",
       "<table border=\"1\" class=\"dataframe\">\n",
       "  <thead>\n",
       "    <tr style=\"text-align: right;\">\n",
       "      <th></th>\n",
       "      <th>prompt_id</th>\n",
       "      <th>text</th>\n",
       "      <th>prompt_name</th>\n",
       "      <th>instructions</th>\n",
       "      <th>source_text</th>\n",
       "    </tr>\n",
       "  </thead>\n",
       "  <tbody>\n",
       "    <tr>\n",
       "      <th>0</th>\n",
       "      <td>0</td>\n",
       "      <td>car car around sinc becam famou 1900 henri for...</td>\n",
       "      <td>0</td>\n",
       "      <td>1</td>\n",
       "      <td>0</td>\n",
       "    </tr>\n",
       "    <tr>\n",
       "      <th>1</th>\n",
       "      <td>0</td>\n",
       "      <td>transport larg necess countri worldwid doubt c...</td>\n",
       "      <td>0</td>\n",
       "      <td>1</td>\n",
       "      <td>0</td>\n",
       "    </tr>\n",
       "    <tr>\n",
       "      <th>2</th>\n",
       "      <td>0</td>\n",
       "      <td>america s love affair s vehicl seem cool say e...</td>\n",
       "      <td>0</td>\n",
       "      <td>1</td>\n",
       "      <td>0</td>\n",
       "    </tr>\n",
       "    <tr>\n",
       "      <th>3</th>\n",
       "      <td>0</td>\n",
       "      <td>often ride car drive one motor vehicl work sto...</td>\n",
       "      <td>0</td>\n",
       "      <td>1</td>\n",
       "      <td>0</td>\n",
       "    </tr>\n",
       "    <tr>\n",
       "      <th>4</th>\n",
       "      <td>0</td>\n",
       "      <td>car wonder thing perhap one world greatest adv...</td>\n",
       "      <td>0</td>\n",
       "      <td>1</td>\n",
       "      <td>0</td>\n",
       "    </tr>\n",
       "    <tr>\n",
       "      <th>...</th>\n",
       "      <td>...</td>\n",
       "      <td>...</td>\n",
       "      <td>...</td>\n",
       "      <td>...</td>\n",
       "      <td>...</td>\n",
       "    </tr>\n",
       "    <tr>\n",
       "      <th>1373</th>\n",
       "      <td>1</td>\n",
       "      <td>fuss elector colleg mani peopl get confus work...</td>\n",
       "      <td>1</td>\n",
       "      <td>0</td>\n",
       "      <td>1</td>\n",
       "    </tr>\n",
       "    <tr>\n",
       "      <th>1374</th>\n",
       "      <td>0</td>\n",
       "      <td>limit car usag mani advantag put lot less poll...</td>\n",
       "      <td>0</td>\n",
       "      <td>1</td>\n",
       "      <td>0</td>\n",
       "    </tr>\n",
       "    <tr>\n",
       "      <th>1375</th>\n",
       "      <td>0</td>\n",
       "      <td>s new trend develop year soon full throttl aff...</td>\n",
       "      <td>0</td>\n",
       "      <td>1</td>\n",
       "      <td>0</td>\n",
       "    </tr>\n",
       "    <tr>\n",
       "      <th>1376</th>\n",
       "      <td>0</td>\n",
       "      <td>know car big part societi today howev car bigg...</td>\n",
       "      <td>0</td>\n",
       "      <td>1</td>\n",
       "      <td>0</td>\n",
       "    </tr>\n",
       "    <tr>\n",
       "      <th>1377</th>\n",
       "      <td>0</td>\n",
       "      <td>car around sinc 1800 s popular ever sinc altho...</td>\n",
       "      <td>0</td>\n",
       "      <td>1</td>\n",
       "      <td>0</td>\n",
       "    </tr>\n",
       "  </tbody>\n",
       "</table>\n",
       "<p>1378 rows × 5 columns</p>\n",
       "</div>"
      ],
      "text/plain": [
       "      prompt_id                                               text  \\\n",
       "0             0  car car around sinc becam famou 1900 henri for...   \n",
       "1             0  transport larg necess countri worldwid doubt c...   \n",
       "2             0  america s love affair s vehicl seem cool say e...   \n",
       "3             0  often ride car drive one motor vehicl work sto...   \n",
       "4             0  car wonder thing perhap one world greatest adv...   \n",
       "...         ...                                                ...   \n",
       "1373          1  fuss elector colleg mani peopl get confus work...   \n",
       "1374          0  limit car usag mani advantag put lot less poll...   \n",
       "1375          0  s new trend develop year soon full throttl aff...   \n",
       "1376          0  know car big part societi today howev car bigg...   \n",
       "1377          0  car around sinc 1800 s popular ever sinc altho...   \n",
       "\n",
       "      prompt_name  instructions  source_text  \n",
       "0               0             1            0  \n",
       "1               0             1            0  \n",
       "2               0             1            0  \n",
       "3               0             1            0  \n",
       "4               0             1            0  \n",
       "...           ...           ...          ...  \n",
       "1373            1             0            1  \n",
       "1374            0             1            0  \n",
       "1375            0             1            0  \n",
       "1376            0             1            0  \n",
       "1377            0             1            0  \n",
       "\n",
       "[1378 rows x 5 columns]"
      ]
     },
     "execution_count": 46,
     "metadata": {},
     "output_type": "execute_result"
    }
   ],
   "source": [
    "x"
   ]
  },
  {
   "cell_type": "code",
   "execution_count": 47,
   "id": "8aa29d95",
   "metadata": {
    "execution": {
     "iopub.execute_input": "2024-09-16T11:20:29.518761Z",
     "iopub.status.busy": "2024-09-16T11:20:29.518229Z",
     "iopub.status.idle": "2024-09-16T11:20:29.526978Z",
     "shell.execute_reply": "2024-09-16T11:20:29.525677Z"
    },
    "papermill": {
     "duration": 0.037427,
     "end_time": "2024-09-16T11:20:29.529688",
     "exception": false,
     "start_time": "2024-09-16T11:20:29.492261",
     "status": "completed"
    },
    "tags": []
   },
   "outputs": [
    {
     "data": {
      "text/plain": [
       "1"
      ]
     },
     "execution_count": 47,
     "metadata": {},
     "output_type": "execute_result"
    }
   ],
   "source": [
    "y[704]"
   ]
  },
  {
   "cell_type": "code",
   "execution_count": 48,
   "id": "ed27710f",
   "metadata": {
    "execution": {
     "iopub.execute_input": "2024-09-16T11:20:29.581951Z",
     "iopub.status.busy": "2024-09-16T11:20:29.581470Z",
     "iopub.status.idle": "2024-09-16T11:20:29.591588Z",
     "shell.execute_reply": "2024-09-16T11:20:29.590470Z"
    },
    "papermill": {
     "duration": 0.039606,
     "end_time": "2024-09-16T11:20:29.594420",
     "exception": false,
     "start_time": "2024-09-16T11:20:29.554814",
     "status": "completed"
    },
    "tags": []
   },
   "outputs": [
    {
     "data": {
      "text/plain": [
       "prompt_id                                                       1\n",
       "text            essay analyz discuss prove one reason favor ke...\n",
       "prompt_name                                                     1\n",
       "instructions                                                    0\n",
       "source_text                                                     1\n",
       "Name: 704, dtype: object"
      ]
     },
     "execution_count": 48,
     "metadata": {},
     "output_type": "execute_result"
    }
   ],
   "source": [
    "x.loc[704]"
   ]
  },
  {
   "cell_type": "code",
   "execution_count": 49,
   "id": "221e6f12",
   "metadata": {
    "execution": {
     "iopub.execute_input": "2024-09-16T11:20:29.645653Z",
     "iopub.status.busy": "2024-09-16T11:20:29.645193Z",
     "iopub.status.idle": "2024-09-16T11:20:29.651027Z",
     "shell.execute_reply": "2024-09-16T11:20:29.649708Z"
    },
    "papermill": {
     "duration": 0.034565,
     "end_time": "2024-09-16T11:20:29.653812",
     "exception": false,
     "start_time": "2024-09-16T11:20:29.619247",
     "status": "completed"
    },
    "tags": []
   },
   "outputs": [],
   "source": [
    "from sklearn.feature_extraction.text import TfidfVectorizer"
   ]
  },
  {
   "cell_type": "code",
   "execution_count": 50,
   "id": "47b55f53",
   "metadata": {
    "execution": {
     "iopub.execute_input": "2024-09-16T11:20:29.704978Z",
     "iopub.status.busy": "2024-09-16T11:20:29.704520Z",
     "iopub.status.idle": "2024-09-16T11:20:29.710536Z",
     "shell.execute_reply": "2024-09-16T11:20:29.709048Z"
    },
    "papermill": {
     "duration": 0.034746,
     "end_time": "2024-09-16T11:20:29.713072",
     "exception": false,
     "start_time": "2024-09-16T11:20:29.678326",
     "status": "completed"
    },
    "tags": []
   },
   "outputs": [],
   "source": [
    "tfidf_vectorizer = TfidfVectorizer(ngram_range=(2,7), max_features=10000, stop_words='english', max_df=0.95)\n"
   ]
  },
  {
   "cell_type": "code",
   "execution_count": 51,
   "id": "c6fd9f83",
   "metadata": {
    "execution": {
     "iopub.execute_input": "2024-09-16T11:20:29.764658Z",
     "iopub.status.busy": "2024-09-16T11:20:29.763833Z",
     "iopub.status.idle": "2024-09-16T11:20:42.204104Z",
     "shell.execute_reply": "2024-09-16T11:20:42.202879Z"
    },
    "papermill": {
     "duration": 12.4694,
     "end_time": "2024-09-16T11:20:42.207006",
     "exception": false,
     "start_time": "2024-09-16T11:20:29.737606",
     "status": "completed"
    },
    "tags": []
   },
   "outputs": [],
   "source": [
    "tfidf_vectorizer = TfidfVectorizer(ngram_range=(2, 7), max_features=10000, stop_words='english', max_df=0.95)\n",
    "\n",
    "# Apply TF-IDF on the 'text' column\n",
    "tfidf_matrix = tfidf_vectorizer.fit_transform(x['text'])\n",
    "\n",
    "# Convert the sparse TF-IDF matrix to a dense DataFrame\n",
    "tfidf_x= pd.DataFrame(tfidf_matrix.toarray(), columns=tfidf_vectorizer.get_feature_names_out())\n",
    "\n",
    "# Reset index of the original DataFrame to align with tfidf_df\n",
    "x= x.reset_index(drop=True)\n",
    "\n",
    "# Concatenate the TF-IDF features with the other columns\n",
    "x = pd.concat([x[['prompt_id', 'prompt_name', 'instructions', 'source_text']], tfidf_x], axis=1)"
   ]
  },
  {
   "cell_type": "code",
   "execution_count": 52,
   "id": "d3ba9e4a",
   "metadata": {
    "execution": {
     "iopub.execute_input": "2024-09-16T11:20:42.259652Z",
     "iopub.status.busy": "2024-09-16T11:20:42.259120Z",
     "iopub.status.idle": "2024-09-16T11:20:42.311364Z",
     "shell.execute_reply": "2024-09-16T11:20:42.310134Z"
    },
    "papermill": {
     "duration": 0.082184,
     "end_time": "2024-09-16T11:20:42.314561",
     "exception": false,
     "start_time": "2024-09-16T11:20:42.232377",
     "status": "completed"
    },
    "tags": []
   },
   "outputs": [
    {
     "data": {
      "text/html": [
       "<div>\n",
       "<style scoped>\n",
       "    .dataframe tbody tr th:only-of-type {\n",
       "        vertical-align: middle;\n",
       "    }\n",
       "\n",
       "    .dataframe tbody tr th {\n",
       "        vertical-align: top;\n",
       "    }\n",
       "\n",
       "    .dataframe thead th {\n",
       "        text-align: right;\n",
       "    }\n",
       "</style>\n",
       "<table border=\"1\" class=\"dataframe\">\n",
       "  <thead>\n",
       "    <tr style=\"text-align: right;\">\n",
       "      <th></th>\n",
       "      <th>prompt_id</th>\n",
       "      <th>prompt_name</th>\n",
       "      <th>instructions</th>\n",
       "      <th>source_text</th>\n",
       "      <th>000 dollar</th>\n",
       "      <th>000 driver</th>\n",
       "      <th>000 driver fine</th>\n",
       "      <th>000 driver fine accord</th>\n",
       "      <th>000 driver fine accord reuter</th>\n",
       "      <th>000 home</th>\n",
       "      <th>...</th>\n",
       "      <th>york new bikeshar program skyrocket</th>\n",
       "      <th>york time</th>\n",
       "      <th>young adult</th>\n",
       "      <th>young peopl</th>\n",
       "      <th>young peopl decreas</th>\n",
       "      <th>young peopl decreas 23</th>\n",
       "      <th>young peopl decreas 23 percent</th>\n",
       "      <th>young peopl decreas 23 percent 2001</th>\n",
       "      <th>young peopl decreas 23 percent 2001 2009</th>\n",
       "      <th>young peopl drive</th>\n",
       "    </tr>\n",
       "  </thead>\n",
       "  <tbody>\n",
       "    <tr>\n",
       "      <th>0</th>\n",
       "      <td>0</td>\n",
       "      <td>0</td>\n",
       "      <td>1</td>\n",
       "      <td>0</td>\n",
       "      <td>0.0</td>\n",
       "      <td>0.0</td>\n",
       "      <td>0.0</td>\n",
       "      <td>0.0</td>\n",
       "      <td>0.0</td>\n",
       "      <td>0.0</td>\n",
       "      <td>...</td>\n",
       "      <td>0.0</td>\n",
       "      <td>0.0</td>\n",
       "      <td>0.0</td>\n",
       "      <td>0.0</td>\n",
       "      <td>0.0</td>\n",
       "      <td>0.0</td>\n",
       "      <td>0.0</td>\n",
       "      <td>0.0</td>\n",
       "      <td>0.0</td>\n",
       "      <td>0.0</td>\n",
       "    </tr>\n",
       "    <tr>\n",
       "      <th>1</th>\n",
       "      <td>0</td>\n",
       "      <td>0</td>\n",
       "      <td>1</td>\n",
       "      <td>0</td>\n",
       "      <td>0.0</td>\n",
       "      <td>0.0</td>\n",
       "      <td>0.0</td>\n",
       "      <td>0.0</td>\n",
       "      <td>0.0</td>\n",
       "      <td>0.0</td>\n",
       "      <td>...</td>\n",
       "      <td>0.0</td>\n",
       "      <td>0.0</td>\n",
       "      <td>0.0</td>\n",
       "      <td>0.0</td>\n",
       "      <td>0.0</td>\n",
       "      <td>0.0</td>\n",
       "      <td>0.0</td>\n",
       "      <td>0.0</td>\n",
       "      <td>0.0</td>\n",
       "      <td>0.0</td>\n",
       "    </tr>\n",
       "    <tr>\n",
       "      <th>2</th>\n",
       "      <td>0</td>\n",
       "      <td>0</td>\n",
       "      <td>1</td>\n",
       "      <td>0</td>\n",
       "      <td>0.0</td>\n",
       "      <td>0.0</td>\n",
       "      <td>0.0</td>\n",
       "      <td>0.0</td>\n",
       "      <td>0.0</td>\n",
       "      <td>0.0</td>\n",
       "      <td>...</td>\n",
       "      <td>0.0</td>\n",
       "      <td>0.0</td>\n",
       "      <td>0.0</td>\n",
       "      <td>0.0</td>\n",
       "      <td>0.0</td>\n",
       "      <td>0.0</td>\n",
       "      <td>0.0</td>\n",
       "      <td>0.0</td>\n",
       "      <td>0.0</td>\n",
       "      <td>0.0</td>\n",
       "    </tr>\n",
       "    <tr>\n",
       "      <th>3</th>\n",
       "      <td>0</td>\n",
       "      <td>0</td>\n",
       "      <td>1</td>\n",
       "      <td>0</td>\n",
       "      <td>0.0</td>\n",
       "      <td>0.0</td>\n",
       "      <td>0.0</td>\n",
       "      <td>0.0</td>\n",
       "      <td>0.0</td>\n",
       "      <td>0.0</td>\n",
       "      <td>...</td>\n",
       "      <td>0.0</td>\n",
       "      <td>0.0</td>\n",
       "      <td>0.0</td>\n",
       "      <td>0.0</td>\n",
       "      <td>0.0</td>\n",
       "      <td>0.0</td>\n",
       "      <td>0.0</td>\n",
       "      <td>0.0</td>\n",
       "      <td>0.0</td>\n",
       "      <td>0.0</td>\n",
       "    </tr>\n",
       "    <tr>\n",
       "      <th>4</th>\n",
       "      <td>0</td>\n",
       "      <td>0</td>\n",
       "      <td>1</td>\n",
       "      <td>0</td>\n",
       "      <td>0.0</td>\n",
       "      <td>0.0</td>\n",
       "      <td>0.0</td>\n",
       "      <td>0.0</td>\n",
       "      <td>0.0</td>\n",
       "      <td>0.0</td>\n",
       "      <td>...</td>\n",
       "      <td>0.0</td>\n",
       "      <td>0.0</td>\n",
       "      <td>0.0</td>\n",
       "      <td>0.0</td>\n",
       "      <td>0.0</td>\n",
       "      <td>0.0</td>\n",
       "      <td>0.0</td>\n",
       "      <td>0.0</td>\n",
       "      <td>0.0</td>\n",
       "      <td>0.0</td>\n",
       "    </tr>\n",
       "    <tr>\n",
       "      <th>...</th>\n",
       "      <td>...</td>\n",
       "      <td>...</td>\n",
       "      <td>...</td>\n",
       "      <td>...</td>\n",
       "      <td>...</td>\n",
       "      <td>...</td>\n",
       "      <td>...</td>\n",
       "      <td>...</td>\n",
       "      <td>...</td>\n",
       "      <td>...</td>\n",
       "      <td>...</td>\n",
       "      <td>...</td>\n",
       "      <td>...</td>\n",
       "      <td>...</td>\n",
       "      <td>...</td>\n",
       "      <td>...</td>\n",
       "      <td>...</td>\n",
       "      <td>...</td>\n",
       "      <td>...</td>\n",
       "      <td>...</td>\n",
       "      <td>...</td>\n",
       "    </tr>\n",
       "    <tr>\n",
       "      <th>1373</th>\n",
       "      <td>1</td>\n",
       "      <td>1</td>\n",
       "      <td>0</td>\n",
       "      <td>1</td>\n",
       "      <td>0.0</td>\n",
       "      <td>0.0</td>\n",
       "      <td>0.0</td>\n",
       "      <td>0.0</td>\n",
       "      <td>0.0</td>\n",
       "      <td>0.0</td>\n",
       "      <td>...</td>\n",
       "      <td>0.0</td>\n",
       "      <td>0.0</td>\n",
       "      <td>0.0</td>\n",
       "      <td>0.0</td>\n",
       "      <td>0.0</td>\n",
       "      <td>0.0</td>\n",
       "      <td>0.0</td>\n",
       "      <td>0.0</td>\n",
       "      <td>0.0</td>\n",
       "      <td>0.0</td>\n",
       "    </tr>\n",
       "    <tr>\n",
       "      <th>1374</th>\n",
       "      <td>0</td>\n",
       "      <td>0</td>\n",
       "      <td>1</td>\n",
       "      <td>0</td>\n",
       "      <td>0.0</td>\n",
       "      <td>0.0</td>\n",
       "      <td>0.0</td>\n",
       "      <td>0.0</td>\n",
       "      <td>0.0</td>\n",
       "      <td>0.0</td>\n",
       "      <td>...</td>\n",
       "      <td>0.0</td>\n",
       "      <td>0.0</td>\n",
       "      <td>0.0</td>\n",
       "      <td>0.0</td>\n",
       "      <td>0.0</td>\n",
       "      <td>0.0</td>\n",
       "      <td>0.0</td>\n",
       "      <td>0.0</td>\n",
       "      <td>0.0</td>\n",
       "      <td>0.0</td>\n",
       "    </tr>\n",
       "    <tr>\n",
       "      <th>1375</th>\n",
       "      <td>0</td>\n",
       "      <td>0</td>\n",
       "      <td>1</td>\n",
       "      <td>0</td>\n",
       "      <td>0.0</td>\n",
       "      <td>0.0</td>\n",
       "      <td>0.0</td>\n",
       "      <td>0.0</td>\n",
       "      <td>0.0</td>\n",
       "      <td>0.0</td>\n",
       "      <td>...</td>\n",
       "      <td>0.0</td>\n",
       "      <td>0.0</td>\n",
       "      <td>0.0</td>\n",
       "      <td>0.0</td>\n",
       "      <td>0.0</td>\n",
       "      <td>0.0</td>\n",
       "      <td>0.0</td>\n",
       "      <td>0.0</td>\n",
       "      <td>0.0</td>\n",
       "      <td>0.0</td>\n",
       "    </tr>\n",
       "    <tr>\n",
       "      <th>1376</th>\n",
       "      <td>0</td>\n",
       "      <td>0</td>\n",
       "      <td>1</td>\n",
       "      <td>0</td>\n",
       "      <td>0.0</td>\n",
       "      <td>0.0</td>\n",
       "      <td>0.0</td>\n",
       "      <td>0.0</td>\n",
       "      <td>0.0</td>\n",
       "      <td>0.0</td>\n",
       "      <td>...</td>\n",
       "      <td>0.0</td>\n",
       "      <td>0.0</td>\n",
       "      <td>0.0</td>\n",
       "      <td>0.0</td>\n",
       "      <td>0.0</td>\n",
       "      <td>0.0</td>\n",
       "      <td>0.0</td>\n",
       "      <td>0.0</td>\n",
       "      <td>0.0</td>\n",
       "      <td>0.0</td>\n",
       "    </tr>\n",
       "    <tr>\n",
       "      <th>1377</th>\n",
       "      <td>0</td>\n",
       "      <td>0</td>\n",
       "      <td>1</td>\n",
       "      <td>0</td>\n",
       "      <td>0.0</td>\n",
       "      <td>0.0</td>\n",
       "      <td>0.0</td>\n",
       "      <td>0.0</td>\n",
       "      <td>0.0</td>\n",
       "      <td>0.0</td>\n",
       "      <td>...</td>\n",
       "      <td>0.0</td>\n",
       "      <td>0.0</td>\n",
       "      <td>0.0</td>\n",
       "      <td>0.0</td>\n",
       "      <td>0.0</td>\n",
       "      <td>0.0</td>\n",
       "      <td>0.0</td>\n",
       "      <td>0.0</td>\n",
       "      <td>0.0</td>\n",
       "      <td>0.0</td>\n",
       "    </tr>\n",
       "  </tbody>\n",
       "</table>\n",
       "<p>1378 rows × 10004 columns</p>\n",
       "</div>"
      ],
      "text/plain": [
       "      prompt_id  prompt_name  instructions  source_text  000 dollar  \\\n",
       "0             0            0             1            0         0.0   \n",
       "1             0            0             1            0         0.0   \n",
       "2             0            0             1            0         0.0   \n",
       "3             0            0             1            0         0.0   \n",
       "4             0            0             1            0         0.0   \n",
       "...         ...          ...           ...          ...         ...   \n",
       "1373          1            1             0            1         0.0   \n",
       "1374          0            0             1            0         0.0   \n",
       "1375          0            0             1            0         0.0   \n",
       "1376          0            0             1            0         0.0   \n",
       "1377          0            0             1            0         0.0   \n",
       "\n",
       "      000 driver  000 driver fine  000 driver fine accord  \\\n",
       "0            0.0              0.0                     0.0   \n",
       "1            0.0              0.0                     0.0   \n",
       "2            0.0              0.0                     0.0   \n",
       "3            0.0              0.0                     0.0   \n",
       "4            0.0              0.0                     0.0   \n",
       "...          ...              ...                     ...   \n",
       "1373         0.0              0.0                     0.0   \n",
       "1374         0.0              0.0                     0.0   \n",
       "1375         0.0              0.0                     0.0   \n",
       "1376         0.0              0.0                     0.0   \n",
       "1377         0.0              0.0                     0.0   \n",
       "\n",
       "      000 driver fine accord reuter  000 home  ...  \\\n",
       "0                               0.0       0.0  ...   \n",
       "1                               0.0       0.0  ...   \n",
       "2                               0.0       0.0  ...   \n",
       "3                               0.0       0.0  ...   \n",
       "4                               0.0       0.0  ...   \n",
       "...                             ...       ...  ...   \n",
       "1373                            0.0       0.0  ...   \n",
       "1374                            0.0       0.0  ...   \n",
       "1375                            0.0       0.0  ...   \n",
       "1376                            0.0       0.0  ...   \n",
       "1377                            0.0       0.0  ...   \n",
       "\n",
       "      york new bikeshar program skyrocket  york time  young adult  \\\n",
       "0                                     0.0        0.0          0.0   \n",
       "1                                     0.0        0.0          0.0   \n",
       "2                                     0.0        0.0          0.0   \n",
       "3                                     0.0        0.0          0.0   \n",
       "4                                     0.0        0.0          0.0   \n",
       "...                                   ...        ...          ...   \n",
       "1373                                  0.0        0.0          0.0   \n",
       "1374                                  0.0        0.0          0.0   \n",
       "1375                                  0.0        0.0          0.0   \n",
       "1376                                  0.0        0.0          0.0   \n",
       "1377                                  0.0        0.0          0.0   \n",
       "\n",
       "      young peopl  young peopl decreas  young peopl decreas 23  \\\n",
       "0             0.0                  0.0                     0.0   \n",
       "1             0.0                  0.0                     0.0   \n",
       "2             0.0                  0.0                     0.0   \n",
       "3             0.0                  0.0                     0.0   \n",
       "4             0.0                  0.0                     0.0   \n",
       "...           ...                  ...                     ...   \n",
       "1373          0.0                  0.0                     0.0   \n",
       "1374          0.0                  0.0                     0.0   \n",
       "1375          0.0                  0.0                     0.0   \n",
       "1376          0.0                  0.0                     0.0   \n",
       "1377          0.0                  0.0                     0.0   \n",
       "\n",
       "      young peopl decreas 23 percent  young peopl decreas 23 percent 2001  \\\n",
       "0                                0.0                                  0.0   \n",
       "1                                0.0                                  0.0   \n",
       "2                                0.0                                  0.0   \n",
       "3                                0.0                                  0.0   \n",
       "4                                0.0                                  0.0   \n",
       "...                              ...                                  ...   \n",
       "1373                             0.0                                  0.0   \n",
       "1374                             0.0                                  0.0   \n",
       "1375                             0.0                                  0.0   \n",
       "1376                             0.0                                  0.0   \n",
       "1377                             0.0                                  0.0   \n",
       "\n",
       "      young peopl decreas 23 percent 2001 2009  young peopl drive  \n",
       "0                                          0.0                0.0  \n",
       "1                                          0.0                0.0  \n",
       "2                                          0.0                0.0  \n",
       "3                                          0.0                0.0  \n",
       "4                                          0.0                0.0  \n",
       "...                                        ...                ...  \n",
       "1373                                       0.0                0.0  \n",
       "1374                                       0.0                0.0  \n",
       "1375                                       0.0                0.0  \n",
       "1376                                       0.0                0.0  \n",
       "1377                                       0.0                0.0  \n",
       "\n",
       "[1378 rows x 10004 columns]"
      ]
     },
     "execution_count": 52,
     "metadata": {},
     "output_type": "execute_result"
    }
   ],
   "source": [
    "x"
   ]
  },
  {
   "cell_type": "code",
   "execution_count": 53,
   "id": "2955c572",
   "metadata": {
    "execution": {
     "iopub.execute_input": "2024-09-16T11:20:42.370288Z",
     "iopub.status.busy": "2024-09-16T11:20:42.369810Z",
     "iopub.status.idle": "2024-09-16T11:20:42.380189Z",
     "shell.execute_reply": "2024-09-16T11:20:42.378866Z"
    },
    "papermill": {
     "duration": 0.041209,
     "end_time": "2024-09-16T11:20:42.382755",
     "exception": false,
     "start_time": "2024-09-16T11:20:42.341546",
     "status": "completed"
    },
    "tags": []
   },
   "outputs": [
    {
     "data": {
      "text/plain": [
       "0       0\n",
       "1       0\n",
       "2       0\n",
       "3       0\n",
       "4       0\n",
       "       ..\n",
       "1373    0\n",
       "1374    0\n",
       "1375    0\n",
       "1376    0\n",
       "1377    0\n",
       "Name: generated, Length: 1378, dtype: int64"
      ]
     },
     "execution_count": 53,
     "metadata": {},
     "output_type": "execute_result"
    }
   ],
   "source": [
    "y"
   ]
  },
  {
   "cell_type": "code",
   "execution_count": 54,
   "id": "69b0620b",
   "metadata": {
    "execution": {
     "iopub.execute_input": "2024-09-16T11:20:42.440841Z",
     "iopub.status.busy": "2024-09-16T11:20:42.440210Z",
     "iopub.status.idle": "2024-09-16T11:20:42.447040Z",
     "shell.execute_reply": "2024-09-16T11:20:42.445684Z"
    },
    "papermill": {
     "duration": 0.040003,
     "end_time": "2024-09-16T11:20:42.450293",
     "exception": false,
     "start_time": "2024-09-16T11:20:42.410290",
     "status": "completed"
    },
    "tags": []
   },
   "outputs": [],
   "source": [
    "from sklearn.model_selection import train_test_split"
   ]
  },
  {
   "cell_type": "code",
   "execution_count": 55,
   "id": "510239f9",
   "metadata": {
    "execution": {
     "iopub.execute_input": "2024-09-16T11:20:42.508109Z",
     "iopub.status.busy": "2024-09-16T11:20:42.507424Z",
     "iopub.status.idle": "2024-09-16T11:20:42.594766Z",
     "shell.execute_reply": "2024-09-16T11:20:42.593184Z"
    },
    "papermill": {
     "duration": 0.119498,
     "end_time": "2024-09-16T11:20:42.597660",
     "exception": false,
     "start_time": "2024-09-16T11:20:42.478162",
     "status": "completed"
    },
    "tags": []
   },
   "outputs": [],
   "source": [
    "x_train,x_test,y_train,y_test = train_test_split(x,y,test_size=0.4, random_state=2\n",
    "                                                )"
   ]
  },
  {
   "cell_type": "code",
   "execution_count": 56,
   "id": "de7088cc",
   "metadata": {
    "execution": {
     "iopub.execute_input": "2024-09-16T11:20:42.651843Z",
     "iopub.status.busy": "2024-09-16T11:20:42.651365Z",
     "iopub.status.idle": "2024-09-16T11:20:42.659833Z",
     "shell.execute_reply": "2024-09-16T11:20:42.658523Z"
    },
    "papermill": {
     "duration": 0.039703,
     "end_time": "2024-09-16T11:20:42.662770",
     "exception": false,
     "start_time": "2024-09-16T11:20:42.623067",
     "status": "completed"
    },
    "tags": []
   },
   "outputs": [
    {
     "data": {
      "text/plain": [
       "((826, 10004), (552, 10004), (826,), (552,))"
      ]
     },
     "execution_count": 56,
     "metadata": {},
     "output_type": "execute_result"
    }
   ],
   "source": [
    "x_train.shape,x_test.shape,y_train.shape,y_test.shape"
   ]
  },
  {
   "cell_type": "code",
   "execution_count": 57,
   "id": "a4e5dd5e",
   "metadata": {
    "execution": {
     "iopub.execute_input": "2024-09-16T11:20:42.722818Z",
     "iopub.status.busy": "2024-09-16T11:20:42.721952Z",
     "iopub.status.idle": "2024-09-16T11:20:42.732601Z",
     "shell.execute_reply": "2024-09-16T11:20:42.730945Z"
    },
    "papermill": {
     "duration": 0.046302,
     "end_time": "2024-09-16T11:20:42.736572",
     "exception": false,
     "start_time": "2024-09-16T11:20:42.690270",
     "status": "completed"
    },
    "tags": []
   },
   "outputs": [],
   "source": [
    "from sklearn.svm import SVC"
   ]
  },
  {
   "cell_type": "code",
   "execution_count": 58,
   "id": "3200295d",
   "metadata": {
    "execution": {
     "iopub.execute_input": "2024-09-16T11:20:42.812730Z",
     "iopub.status.busy": "2024-09-16T11:20:42.812136Z",
     "iopub.status.idle": "2024-09-16T11:20:42.819425Z",
     "shell.execute_reply": "2024-09-16T11:20:42.818059Z"
    },
    "papermill": {
     "duration": 0.04911,
     "end_time": "2024-09-16T11:20:42.822841",
     "exception": false,
     "start_time": "2024-09-16T11:20:42.773731",
     "status": "completed"
    },
    "tags": []
   },
   "outputs": [],
   "source": [
    "svc= SVC(kernel=\"linear\")"
   ]
  },
  {
   "cell_type": "code",
   "execution_count": 59,
   "id": "b2577d27",
   "metadata": {
    "execution": {
     "iopub.execute_input": "2024-09-16T11:20:42.892232Z",
     "iopub.status.busy": "2024-09-16T11:20:42.891671Z",
     "iopub.status.idle": "2024-09-16T11:20:45.461815Z",
     "shell.execute_reply": "2024-09-16T11:20:45.460673Z"
    },
    "papermill": {
     "duration": 2.60428,
     "end_time": "2024-09-16T11:20:45.465092",
     "exception": false,
     "start_time": "2024-09-16T11:20:42.860812",
     "status": "completed"
    },
    "tags": []
   },
   "outputs": [
    {
     "data": {
      "text/html": [
       "<style>#sk-container-id-1 {color: black;background-color: white;}#sk-container-id-1 pre{padding: 0;}#sk-container-id-1 div.sk-toggleable {background-color: white;}#sk-container-id-1 label.sk-toggleable__label {cursor: pointer;display: block;width: 100%;margin-bottom: 0;padding: 0.3em;box-sizing: border-box;text-align: center;}#sk-container-id-1 label.sk-toggleable__label-arrow:before {content: \"▸\";float: left;margin-right: 0.25em;color: #696969;}#sk-container-id-1 label.sk-toggleable__label-arrow:hover:before {color: black;}#sk-container-id-1 div.sk-estimator:hover label.sk-toggleable__label-arrow:before {color: black;}#sk-container-id-1 div.sk-toggleable__content {max-height: 0;max-width: 0;overflow: hidden;text-align: left;background-color: #f0f8ff;}#sk-container-id-1 div.sk-toggleable__content pre {margin: 0.2em;color: black;border-radius: 0.25em;background-color: #f0f8ff;}#sk-container-id-1 input.sk-toggleable__control:checked~div.sk-toggleable__content {max-height: 200px;max-width: 100%;overflow: auto;}#sk-container-id-1 input.sk-toggleable__control:checked~label.sk-toggleable__label-arrow:before {content: \"▾\";}#sk-container-id-1 div.sk-estimator input.sk-toggleable__control:checked~label.sk-toggleable__label {background-color: #d4ebff;}#sk-container-id-1 div.sk-label input.sk-toggleable__control:checked~label.sk-toggleable__label {background-color: #d4ebff;}#sk-container-id-1 input.sk-hidden--visually {border: 0;clip: rect(1px 1px 1px 1px);clip: rect(1px, 1px, 1px, 1px);height: 1px;margin: -1px;overflow: hidden;padding: 0;position: absolute;width: 1px;}#sk-container-id-1 div.sk-estimator {font-family: monospace;background-color: #f0f8ff;border: 1px dotted black;border-radius: 0.25em;box-sizing: border-box;margin-bottom: 0.5em;}#sk-container-id-1 div.sk-estimator:hover {background-color: #d4ebff;}#sk-container-id-1 div.sk-parallel-item::after {content: \"\";width: 100%;border-bottom: 1px solid gray;flex-grow: 1;}#sk-container-id-1 div.sk-label:hover label.sk-toggleable__label {background-color: #d4ebff;}#sk-container-id-1 div.sk-serial::before {content: \"\";position: absolute;border-left: 1px solid gray;box-sizing: border-box;top: 0;bottom: 0;left: 50%;z-index: 0;}#sk-container-id-1 div.sk-serial {display: flex;flex-direction: column;align-items: center;background-color: white;padding-right: 0.2em;padding-left: 0.2em;position: relative;}#sk-container-id-1 div.sk-item {position: relative;z-index: 1;}#sk-container-id-1 div.sk-parallel {display: flex;align-items: stretch;justify-content: center;background-color: white;position: relative;}#sk-container-id-1 div.sk-item::before, #sk-container-id-1 div.sk-parallel-item::before {content: \"\";position: absolute;border-left: 1px solid gray;box-sizing: border-box;top: 0;bottom: 0;left: 50%;z-index: -1;}#sk-container-id-1 div.sk-parallel-item {display: flex;flex-direction: column;z-index: 1;position: relative;background-color: white;}#sk-container-id-1 div.sk-parallel-item:first-child::after {align-self: flex-end;width: 50%;}#sk-container-id-1 div.sk-parallel-item:last-child::after {align-self: flex-start;width: 50%;}#sk-container-id-1 div.sk-parallel-item:only-child::after {width: 0;}#sk-container-id-1 div.sk-dashed-wrapped {border: 1px dashed gray;margin: 0 0.4em 0.5em 0.4em;box-sizing: border-box;padding-bottom: 0.4em;background-color: white;}#sk-container-id-1 div.sk-label label {font-family: monospace;font-weight: bold;display: inline-block;line-height: 1.2em;}#sk-container-id-1 div.sk-label-container {text-align: center;}#sk-container-id-1 div.sk-container {/* jupyter's `normalize.less` sets `[hidden] { display: none; }` but bootstrap.min.css set `[hidden] { display: none !important; }` so we also need the `!important` here to be able to override the default hidden behavior on the sphinx rendered scikit-learn.org. See: https://github.com/scikit-learn/scikit-learn/issues/21755 */display: inline-block !important;position: relative;}#sk-container-id-1 div.sk-text-repr-fallback {display: none;}</style><div id=\"sk-container-id-1\" class=\"sk-top-container\"><div class=\"sk-text-repr-fallback\"><pre>SVC(kernel=&#x27;linear&#x27;)</pre><b>In a Jupyter environment, please rerun this cell to show the HTML representation or trust the notebook. <br />On GitHub, the HTML representation is unable to render, please try loading this page with nbviewer.org.</b></div><div class=\"sk-container\" hidden><div class=\"sk-item\"><div class=\"sk-estimator sk-toggleable\"><input class=\"sk-toggleable__control sk-hidden--visually\" id=\"sk-estimator-id-1\" type=\"checkbox\" checked><label for=\"sk-estimator-id-1\" class=\"sk-toggleable__label sk-toggleable__label-arrow\">SVC</label><div class=\"sk-toggleable__content\"><pre>SVC(kernel=&#x27;linear&#x27;)</pre></div></div></div></div></div>"
      ],
      "text/plain": [
       "SVC(kernel='linear')"
      ]
     },
     "execution_count": 59,
     "metadata": {},
     "output_type": "execute_result"
    }
   ],
   "source": [
    "svc.fit(x_train,y_train)"
   ]
  },
  {
   "cell_type": "code",
   "execution_count": 60,
   "id": "8c3db325",
   "metadata": {
    "execution": {
     "iopub.execute_input": "2024-09-16T11:20:45.541334Z",
     "iopub.status.busy": "2024-09-16T11:20:45.540639Z",
     "iopub.status.idle": "2024-09-16T11:20:45.912374Z",
     "shell.execute_reply": "2024-09-16T11:20:45.911170Z"
    },
    "papermill": {
     "duration": 0.414765,
     "end_time": "2024-09-16T11:20:45.915657",
     "exception": false,
     "start_time": "2024-09-16T11:20:45.500892",
     "status": "completed"
    },
    "tags": []
   },
   "outputs": [],
   "source": [
    "y_pred= svc.predict(x_test)"
   ]
  },
  {
   "cell_type": "code",
   "execution_count": 61,
   "id": "a8f166eb",
   "metadata": {
    "execution": {
     "iopub.execute_input": "2024-09-16T11:20:45.989687Z",
     "iopub.status.busy": "2024-09-16T11:20:45.988996Z",
     "iopub.status.idle": "2024-09-16T11:20:45.995185Z",
     "shell.execute_reply": "2024-09-16T11:20:45.993999Z"
    },
    "papermill": {
     "duration": 0.050766,
     "end_time": "2024-09-16T11:20:46.002172",
     "exception": false,
     "start_time": "2024-09-16T11:20:45.951406",
     "status": "completed"
    },
    "tags": []
   },
   "outputs": [],
   "source": [
    "from sklearn.metrics import accuracy_score, classification_report"
   ]
  },
  {
   "cell_type": "code",
   "execution_count": 62,
   "id": "30293918",
   "metadata": {
    "execution": {
     "iopub.execute_input": "2024-09-16T11:20:46.066030Z",
     "iopub.status.busy": "2024-09-16T11:20:46.065555Z",
     "iopub.status.idle": "2024-09-16T11:20:46.073429Z",
     "shell.execute_reply": "2024-09-16T11:20:46.071903Z"
    },
    "papermill": {
     "duration": 0.039051,
     "end_time": "2024-09-16T11:20:46.076313",
     "exception": false,
     "start_time": "2024-09-16T11:20:46.037262",
     "status": "completed"
    },
    "tags": []
   },
   "outputs": [],
   "source": [
    "accuracy = accuracy_score(y_test, y_pred)"
   ]
  },
  {
   "cell_type": "code",
   "execution_count": 63,
   "id": "51ee1f32",
   "metadata": {
    "execution": {
     "iopub.execute_input": "2024-09-16T11:20:46.131824Z",
     "iopub.status.busy": "2024-09-16T11:20:46.131291Z",
     "iopub.status.idle": "2024-09-16T11:20:46.139140Z",
     "shell.execute_reply": "2024-09-16T11:20:46.137825Z"
    },
    "papermill": {
     "duration": 0.038954,
     "end_time": "2024-09-16T11:20:46.141780",
     "exception": false,
     "start_time": "2024-09-16T11:20:46.102826",
     "status": "completed"
    },
    "tags": []
   },
   "outputs": [
    {
     "data": {
      "text/plain": [
       "0.9981884057971014"
      ]
     },
     "execution_count": 63,
     "metadata": {},
     "output_type": "execute_result"
    }
   ],
   "source": [
    "accuracy"
   ]
  },
  {
   "cell_type": "code",
   "execution_count": 64,
   "id": "333a54a7",
   "metadata": {
    "execution": {
     "iopub.execute_input": "2024-09-16T11:20:46.196418Z",
     "iopub.status.busy": "2024-09-16T11:20:46.195972Z",
     "iopub.status.idle": "2024-09-16T11:20:46.219791Z",
     "shell.execute_reply": "2024-09-16T11:20:46.218218Z"
    },
    "papermill": {
     "duration": 0.055238,
     "end_time": "2024-09-16T11:20:46.223189",
     "exception": false,
     "start_time": "2024-09-16T11:20:46.167951",
     "status": "completed"
    },
    "tags": []
   },
   "outputs": [
    {
     "name": "stdout",
     "output_type": "stream",
     "text": [
      "              precision    recall  f1-score   support\n",
      "\n",
      "           0       1.00      1.00      1.00       551\n",
      "           1       0.00      0.00      0.00         1\n",
      "\n",
      "    accuracy                           1.00       552\n",
      "   macro avg       0.50      0.50      0.50       552\n",
      "weighted avg       1.00      1.00      1.00       552\n",
      "\n"
     ]
    },
    {
     "name": "stderr",
     "output_type": "stream",
     "text": [
      "/opt/conda/lib/python3.10/site-packages/sklearn/metrics/_classification.py:1344: UndefinedMetricWarning: Precision and F-score are ill-defined and being set to 0.0 in labels with no predicted samples. Use `zero_division` parameter to control this behavior.\n",
      "  _warn_prf(average, modifier, msg_start, len(result))\n",
      "/opt/conda/lib/python3.10/site-packages/sklearn/metrics/_classification.py:1344: UndefinedMetricWarning: Precision and F-score are ill-defined and being set to 0.0 in labels with no predicted samples. Use `zero_division` parameter to control this behavior.\n",
      "  _warn_prf(average, modifier, msg_start, len(result))\n",
      "/opt/conda/lib/python3.10/site-packages/sklearn/metrics/_classification.py:1344: UndefinedMetricWarning: Precision and F-score are ill-defined and being set to 0.0 in labels with no predicted samples. Use `zero_division` parameter to control this behavior.\n",
      "  _warn_prf(average, modifier, msg_start, len(result))\n"
     ]
    }
   ],
   "source": [
    "print(classification_report(y_test, y_pred))"
   ]
  },
  {
   "cell_type": "code",
   "execution_count": null,
   "id": "ec63335d",
   "metadata": {
    "papermill": {
     "duration": 0.025593,
     "end_time": "2024-09-16T11:20:46.275072",
     "exception": false,
     "start_time": "2024-09-16T11:20:46.249479",
     "status": "completed"
    },
    "tags": []
   },
   "outputs": [],
   "source": []
  }
 ],
 "metadata": {
  "kaggle": {
   "accelerator": "none",
   "dataSources": [
    {
     "databundleVersionId": 7516023,
     "sourceId": 61542,
     "sourceType": "competition"
    }
   ],
   "dockerImageVersionId": 30761,
   "isGpuEnabled": false,
   "isInternetEnabled": true,
   "language": "python",
   "sourceType": "notebook"
  },
  "kernelspec": {
   "display_name": "Python 3",
   "language": "python",
   "name": "python3"
  },
  "language_info": {
   "codemirror_mode": {
    "name": "ipython",
    "version": 3
   },
   "file_extension": ".py",
   "mimetype": "text/x-python",
   "name": "python",
   "nbconvert_exporter": "python",
   "pygments_lexer": "ipython3",
   "version": "3.10.14"
  },
  "papermill": {
   "default_parameters": {},
   "duration": 64.55126,
   "end_time": "2024-09-16T11:20:47.326226",
   "environment_variables": {},
   "exception": null,
   "input_path": "__notebook__.ipynb",
   "output_path": "__notebook__.ipynb",
   "parameters": {},
   "start_time": "2024-09-16T11:19:42.774966",
   "version": "2.6.0"
  }
 },
 "nbformat": 4,
 "nbformat_minor": 5
}
